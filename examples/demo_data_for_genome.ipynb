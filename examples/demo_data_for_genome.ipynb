{
 "cells": [
  {
   "cell_type": "markdown",
   "id": "cad46bb9-ad0d-4bf3-a6d8-942cb958576d",
   "metadata": {},
   "source": [
    "# For generating demo data for genomes"
   ]
  },
  {
   "cell_type": "code",
   "execution_count": null,
   "id": "427df675-da21-4eb8-95ae-6147b2d8f6f9",
   "metadata": {
    "tags": []
   },
   "outputs": [],
   "source": [
    "import logging\n",
    "from pathlib import Path\n",
    "import numpy as np\n",
    "from roux.lib.io import read_ps,read_table,to_table,read_dict,to_dict"
   ]
  },
  {
   "cell_type": "code",
   "execution_count": null,
   "id": "dd6266c1-efdf-4ff9-95bc-9d3f725d013a",
   "metadata": {
    "tags": []
   },
   "outputs": [],
   "source": [
    "## parameters\n",
    "n=20\n",
    "species_names=['yeast'] #['human']\n",
    "force=True\n",
    "# force=False"
   ]
  },
  {
   "cell_type": "markdown",
   "id": "fe28ffc5-6546-4f94-9e00-d8ce5ea807df",
   "metadata": {},
   "source": [
    "## Demo custom genome\n",
    "### Download\n",
    "      pyensembl install --release=100 --species=fly"
   ]
  },
  {
   "cell_type": "code",
   "execution_count": null,
   "id": "d69e9a91-dfa1-4a92-9eb9-69abd912d156",
   "metadata": {},
   "outputs": [],
   "source": [
    "# from pyensembl.shell import collect_all_installed_ensembl_releases\n",
    "# collect_all_installed_ensembl_releases()\n",
    "\n",
    "from pyensembl import find_species_by_name\n",
    "from pyensembl import EnsemblRelease\n",
    "data = EnsemblRelease(\n",
    "    release=100,\n",
    "    species=find_species_by_name('drosophila_melanogaster'),\n",
    "    )"
   ]
  },
  {
   "cell_type": "markdown",
   "id": "496afb90-0a3a-48f3-b1fa-fc481ca44963",
   "metadata": {},
   "source": [
    "### Subset to a chromosome"
   ]
  },
  {
   "cell_type": "markdown",
   "id": "d79e6c5e-12a4-443b-9b51-2db907f48e10",
   "metadata": {},
   "source": [
    "#### Annotations"
   ]
  },
  {
   "cell_type": "code",
   "execution_count": null,
   "id": "9b786683-d3ab-4a64-bafd-f8389b694c98",
   "metadata": {
    "tags": []
   },
   "outputs": [],
   "source": [
    "import pandas as pd"
   ]
  },
  {
   "cell_type": "code",
   "execution_count": null,
   "id": "9d922601-99fe-4c4e-90fd-fa9fe086c574",
   "metadata": {},
   "outputs": [],
   "source": [
    "df01=pd.read_csv(\n",
    "    data.gtf_path,\n",
    "    sep='\\t',\n",
    "    compression='gzip',\n",
    "    header=2,\n",
    "    names=[\"seqname\",# - name of the chromosome or scaffold; chromosome names can be given with or without the 'chr' prefix. Important note: the seqname must be one used within Ensembl, i.e. a standard chromosome name or an Ensembl identifier such as a scaffold ID, without any additional content such as species or assembly. See the example GFF output below.\n",
    "\"source\",# - name of the program that generated this feature, or the data source (database or project name)\n",
    "\"feature\",# - feature type name, e.g. Gene, Variation, Similarity\n",
    "\"start\",# - Start position* of the feature, with sequence numbering starting at 1.\n",
    "\"end\",# - End position* of the feature, with sequence numbering starting at 1.\n",
    "\"score\",# - A floating point value.\n",
    "\"strand\",# - defined as + (forward) or - (reverse).\n",
    "\"frame\",# - One of '0', '1' or '2'. '0' indicates that the first base of the feature is the first base of a codon, '1' that the second base is the first base of a codon, and so on..\n",
    "\"attribute\",# - A semicolon-separated list of tag-value pairs, providing additional information about each feature.\n",
    "],\n",
    ")\n",
    "df01.head(1)"
   ]
  },
  {
   "cell_type": "code",
   "execution_count": null,
   "id": "f992fae8-b694-4651-9064-c91a05a85b83",
   "metadata": {},
   "outputs": [],
   "source": [
    "df01['seqname'].unique()"
   ]
  },
  {
   "cell_type": "code",
   "execution_count": null,
   "id": "7e2a1704-cabb-44e6-af34-ae7958b53ca1",
   "metadata": {},
   "outputs": [],
   "source": [
    "df1=df01.query(\"`seqname`=='4'\") # shortest\n",
    "len(df1)\n",
    "df1.head(1)"
   ]
  },
  {
   "cell_type": "code",
   "execution_count": null,
   "id": "926eae80-ec91-43e6-9ba2-685f727fb7a9",
   "metadata": {},
   "outputs": [],
   "source": [
    "df1.to_csv('inputs/ann.gtf',index=False,header=False,sep='\\t')"
   ]
  },
  {
   "cell_type": "code",
   "execution_count": null,
   "id": "b3647478-7f2a-4ab8-98b7-709f1a68f2ec",
   "metadata": {},
   "outputs": [],
   "source": [
    "df1['feature'].unique()"
   ]
  },
  {
   "cell_type": "markdown",
   "id": "89b0a636-f52e-4a72-a100-ae21b184fda3",
   "metadata": {},
   "source": [
    "### Sequences"
   ]
  },
  {
   "cell_type": "code",
   "execution_count": null,
   "id": "4ecf4f44-dc42-4457-a7a8-d6c5089a67c4",
   "metadata": {},
   "outputs": [],
   "source": [
    "from beditor.lib.utils import read_fasta\n",
    "import gzip\n",
    "from Bio import SeqIO\n",
    "for molecule_type,p in {'RNA':data.transcript_fasta_paths[0],'Protein':data.protein_fasta_paths[0],}.items():\n",
    "    with gzip.open(p, \"rt\") as handle:\n",
    "        # s_=SeqIO.parse(handle,format='fasta')\n",
    "        # for s in s_:\n",
    "        #     break\n",
    "        d1=read_fasta(handle,key_type='descr')\n",
    "\n",
    "    print(len(d1))\n",
    "    d1={k:v for k,v in d1.items() if 'chromosome:BDGP6.28:4:' in k}\n",
    "    print(len(d1))\n",
    "\n",
    "    to_fasta(d1,f'inputs/{molecule_type}.fa',molecule_type=molecule_type)"
   ]
  },
  {
   "cell_type": "markdown",
   "id": "57b362fb-de8f-46c2-906a-a4e56192b5c9",
   "metadata": {},
   "source": [
    "### Test by loading the subset"
   ]
  },
  {
   "cell_type": "code",
   "execution_count": null,
   "id": "1cccb3cb-d281-49a6-a5ef-4e2e07d15dd3",
   "metadata": {},
   "outputs": [],
   "source": [
    "from pyensembl import Genome\n",
    "annots = Genome(\n",
    "    reference_name='ref',\n",
    "    annotation_name='ann',\n",
    "    gtf_path_or_url='inputs/ann.gtf',\n",
    "    transcript_fasta_paths_or_urls=\"inputs/RNA.fa\",\n",
    "    protein_fasta_paths_or_urls=\"inputs/Protein.fa\",\n",
    ")\n",
    "# parse GTF and construct database of genomic features\n",
    "annots.index()"
   ]
  },
  {
   "cell_type": "markdown",
   "id": "bba85d47-467a-469f-8821-c0c1ab91e9d3",
   "metadata": {},
   "source": [
    "## Input mutations"
   ]
  },
  {
   "cell_type": "code",
   "execution_count": null,
   "id": "68020cbe-8446-4b63-b454-757d0cbc9dd9",
   "metadata": {
    "editable": true,
    "slideshow": {
     "slide_type": ""
    },
    "tags": []
   },
   "outputs": [],
   "source": [
    "parameters_list=[]\n",
    "for mutation_format in ['protein','base']:\n",
    "    for mutation_scan in ['regions','positions']: #[None]\n",
    "        parameters_list.append(\n",
    "            dict(\n",
    "                mutation_format=mutation_format,\n",
    "                mutation_scan=mutation_scan,\n",
    "                output_path=f'inputs/mutations/{mutation_format}/{mutation_scan}.yml',\n",
    "                n=n,\n",
    "                force=force,\n",
    "            )\n",
    "        )\n",
    "        # for species_name in species_names:\n",
    "        #     parameters_list.append(\n",
    "        #         dict(\n",
    "        #             mutation_format=mutation_format,\n",
    "        #             mutation_scan=mutation_scan,\n",
    "        #             output_path=f'inputs_{species_name}/mutations/{mutation_format}/{mutation_scan}.yml',\n",
    "        #             species_name=species_name,\n",
    "        #             release=110,\n",
    "        #             n=200,\n",
    "        #             force=force,\n",
    "        #         )\n",
    "        #     )\n",
    "len(parameters_list)"
   ]
  },
  {
   "cell_type": "code",
   "execution_count": null,
   "id": "e1b45345-c744-4382-9e0c-adae8e3bc814",
   "metadata": {
    "editable": true,
    "slideshow": {
     "slide_type": ""
    },
    "tags": []
   },
   "outputs": [],
   "source": [
    "from papermill import execute_notebook\n",
    "for params in parameters_list:\n",
    "    if not Path(params['output_path']).exists() or force:\n",
    "        logging.info(params['output_path'])\n",
    "        Path(params['output_path']).parent.mkdir(parents=True, exist_ok=True)\n",
    "        outp=Path(params['output_path']).with_suffix('.ipynb')\n",
    "        print(outp)\n",
    "        execute_notebook(\n",
    "            input_path='demo_data_for_run.ipynb',\n",
    "            output_path=outp,\n",
    "            parameters=params,\n",
    "        )\n",
    "    # break"
   ]
  },
  {
   "cell_type": "markdown",
   "id": "ede8a8fd-505f-44bc-9981-9588304d331f",
   "metadata": {
    "tags": []
   },
   "source": [
    "### Mutations for base editing"
   ]
  },
  {
   "cell_type": "code",
   "execution_count": null,
   "id": "054d4943-5235-4a26-bbee-74e8dfeb8c48",
   "metadata": {
    "tags": []
   },
   "outputs": [],
   "source": [
    "def map_mutations(\n",
    "    df_,\n",
    "    mutations,\n",
    "    random=False,\n",
    "    ):\n",
    "    if random:\n",
    "        np.random.seed(0)\n",
    "        df_=df_.assign(\n",
    "            mutation=np.random.choice(mutations,len(df_))\n",
    "        )\n",
    "    else:\n",
    "        df_=df_.assign(\n",
    "            mutation=lambda df : df[df_.columns.tolist()[0]].apply(lambda x: mutations),\n",
    "        ).explode('mutation').log()\n",
    "    print(df_['mutation'].value_counts().to_dict())\n",
    "    return df_"
   ]
  },
  {
   "cell_type": "code",
   "execution_count": null,
   "id": "d7752a02-e89c-4478-b64c-3a8329b8d059",
   "metadata": {
    "tags": []
   },
   "outputs": [],
   "source": [
    "for ind in [\"inputs/\"]+[f\"inputs_{s}/\" for s in species_names]:\n",
    "    for mutation_format in ['base','protein']:\n",
    "        if mutation_format=='base':\n",
    "            mutations=list('ATGC')\n",
    "        else:\n",
    "            from Bio.Data import IUPACData\n",
    "            # Get a list of all amino acids\n",
    "            mutations = list(IUPACData.protein_letters)\n",
    "        df_=read_table(f\"{ind}/mutations/{mutation_format}/positions.tsv\")\n",
    "        print(len(df_))\n",
    "        df_=map_mutations(\n",
    "            df_,\n",
    "            mutations=mutations,\n",
    "            random=False,\n",
    "        )\n",
    "        print(len(df_))\n",
    "        to_table(df_,f'{ind}/mutations/{mutation_format}/points.tsv')\n",
    "\n",
    "        cfg=read_dict(f\"{ind}/mutations/{mutation_format}/positions.yml\")\n",
    "        cfg['run']['input_path']=cfg['run']['input_path'].replace('positions','points')\n",
    "        cfg['run']['output_dir_path']=cfg['run']['output_dir_path'].replace('positions','points')\n",
    "        to_dict(cfg,f\"{ind}/mutations/{mutation_format}/points.yml\")\n",
    "        print(cfg)"
   ]
  }
 ],
 "metadata": {
  "kernelspec": {
   "display_name": "beditor",
   "language": "python",
   "name": "beditor"
  },
  "language_info": {
   "codemirror_mode": {
    "name": "ipython",
    "version": 3
   },
   "file_extension": ".py",
   "mimetype": "text/x-python",
   "name": "python",
   "nbconvert_exporter": "python",
   "pygments_lexer": "ipython3",
   "version": "3.9.18"
  }
 },
 "nbformat": 4,
 "nbformat_minor": 5
}
