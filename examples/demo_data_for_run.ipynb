{
 "cells": [
  {
   "cell_type": "markdown",
   "id": "3bfd6dae-a392-404a-9abe-ffeb752f8afc",
   "metadata": {},
   "source": [
    "# For generating demo data for a run of `beditor`"
   ]
  },
  {
   "cell_type": "markdown",
   "id": "81cf0915-f0f9-4f2f-9728-316a9d6ee3f2",
   "metadata": {},
   "source": [
    "# Input mutations"
   ]
  },
  {
   "cell_type": "code",
   "execution_count": null,
   "id": "415a250c-f9df-4bf1-a546-06c27cbb24a1",
   "metadata": {
    "tags": []
   },
   "outputs": [],
   "source": [
    "import logging\n",
    "from pathlib import Path \n",
    "import pandas as pd\n",
    "from roux.lib.io import to_table,to_dict\n",
    "logging.basicConfig(level=logging.INFO)"
   ]
  },
  {
   "cell_type": "markdown",
   "id": "2302349b-0fa4-4a72-84a2-e56ec812f520",
   "metadata": {},
   "source": [
    "## Input parameters"
   ]
  },
  {
   "cell_type": "code",
   "execution_count": null,
   "id": "113ee405-ad38-4ab0-b1f7-6dc245191e68",
   "metadata": {
    "editable": true,
    "slideshow": {
     "slide_type": ""
    },
    "tags": [
     "parameters"
    ]
   },
   "outputs": [],
   "source": [
    "## parameters\n",
    "n=2\n",
    "mutation_format=None# 'protein'\n",
    "mutation_scan=None #'residues' # region\n",
    "output_path=None\n",
    "## genome\n",
    "species_name=None\n",
    "release=None\n",
    "# or\n",
    "gtf_path=None\n",
    "transcript_path=None\n",
    "protein_path=None\n",
    "genome_path=None\n",
    "## constants\n",
    "scanning_interval=2\n",
    "force=False"
   ]
  },
  {
   "cell_type": "code",
   "execution_count": null,
   "id": "5544c622-2c28-4093-9cf5-1a2239477c3f",
   "metadata": {
    "tags": []
   },
   "outputs": [],
   "source": [
    "def _to_gids_demo(\n",
    "    annots,\n",
    "    n,\n",
    "    ):\n",
    "    from roux.lib.set import get_alt\n",
    "    gids=[]\n",
    "    strand='+'\n",
    "    for g in annots.genes():\n",
    "        if n==len(gids):\n",
    "            break\n",
    "        if g.is_protein_coding and not g.contig in ['MT','MITO']:\n",
    "            if g.strand == strand:\n",
    "                for t in g.transcripts:\n",
    "                    if (t.is_protein_coding and t.contains_start_codon and t.contains_stop_codon):\n",
    "                        if t.strand == strand:\n",
    "                            print(g)\n",
    "                            gids.append(g.id)\n",
    "                            strand=strand=get_alt(['+','-'],g.strand)\n",
    "    return gids\n",
    "def _get_base_pos_demo(\n",
    "    annots,\n",
    "    gene_ids,\n",
    "    n=2,\n",
    "    ):\n",
    "    dfs=[]\n",
    "    for gid in gene_ids:\n",
    "        g=annots.gene_by_id(gid)    \n",
    "        t=g.transcripts[0]\n",
    "        dfs.append(\n",
    "            pd.DataFrame({\n",
    "            'chrom':[t.contig]*n,\n",
    "            \"start\":list(range(t.start,(t.start)+(scanning_interval*n),scanning_interval)),\n",
    "        }))\n",
    "    return pd.concat(dfs,axis=0)\n",
    "if species_name is None:\n",
    "    gtf_path='inputs/ann.gtf'\n",
    "    genome_path='inputs/dna.fa'\n",
    "    transcript_path=\"inputs/RNA.fa\"\n",
    "    protein_path=\"inputs/Protein.fa\"\n",
    "output_path=f\"inputs{'_'+species_name if not species_name is None else ''}/mutations/{mutation_format}/{mutation_scan}.yml\""
   ]
  },
  {
   "cell_type": "code",
   "execution_count": null,
   "id": "0ae321a4-98a7-41fa-b37b-65867137e0db",
   "metadata": {
    "editable": true,
    "slideshow": {
     "slide_type": ""
    },
    "tags": []
   },
   "outputs": [],
   "source": [
    "# ## inferred output variables\n",
    "# output_dir_path=str(Path(output_path).parent)+'/'\n",
    "# Path(output_dir_path).parent.mkdir(parents=True, exist_ok=True)\n",
    "# logging.info(f\"Output directory: {output_dir_path}\")\n",
    "\n",
    "mutations_path=Path(output_path).with_suffix('.tsv').as_posix()"
   ]
  },
  {
   "cell_type": "markdown",
   "id": "d6d4c8cc-354b-4a5a-9439-d6feabcf4a81",
   "metadata": {},
   "source": [
    "## Genome annotations"
   ]
  },
  {
   "cell_type": "code",
   "execution_count": null,
   "id": "429cae50-8d74-4bda-b02b-f10448792c4a",
   "metadata": {
    "tags": []
   },
   "outputs": [],
   "source": [
    "from beditor.lib.utils import get_annots\n",
    "annots=get_annots(\n",
    "    species_name=species_name,\n",
    "    release=release,\n",
    "    gtf_path=gtf_path,\n",
    "    transcript_path=transcript_path,\n",
    "    protein_path=protein_path,\n",
    "    reference_name='assembly',\n",
    "    annotation_name='source',\n",
    "    # **kws_Genome,\n",
    "    )"
   ]
  },
  {
   "cell_type": "code",
   "execution_count": null,
   "id": "ac891e5d-96af-4525-8b35-53cb0d265021",
   "metadata": {
    "tags": []
   },
   "outputs": [],
   "source": [
    "gene_ids=_to_gids_demo(\n",
    "    annots=annots,\n",
    "    n=n,\n",
    "    )\n",
    "logging.info(gene_ids)"
   ]
  },
  {
   "cell_type": "markdown",
   "id": "b4c3c4ae-ff52-4676-be86-52a74b94efac",
   "metadata": {},
   "source": [
    "## Bases "
   ]
  },
  {
   "cell_type": "markdown",
   "id": "ce621feb-4520-4c30-bb10-95b480783584",
   "metadata": {},
   "source": [
    "### Mutations"
   ]
  },
  {
   "cell_type": "code",
   "execution_count": null,
   "id": "29048193-6471-4b43-886b-2a57ea29204f",
   "metadata": {},
   "outputs": [],
   "source": [
    "if mutation_format=='base' and mutation_scan is None:\n",
    "    ## C->T\n",
    "    pass"
   ]
  },
  {
   "cell_type": "markdown",
   "id": "bb96b4af-4126-45bf-a700-b154e5a8e14d",
   "metadata": {},
   "source": [
    "### Scanning"
   ]
  },
  {
   "cell_type": "markdown",
   "id": "c7b15738-7c32-4ec3-a0a5-61e427c2612e",
   "metadata": {},
   "source": [
    "#### At positions"
   ]
  },
  {
   "cell_type": "code",
   "execution_count": null,
   "id": "90e2ef14-8cde-431b-9b47-12496c3b9f09",
   "metadata": {
    "editable": true,
    "slideshow": {
     "slide_type": ""
    },
    "tags": []
   },
   "outputs": [],
   "source": [
    "if mutation_format=='base' and mutation_scan.startswith('pos'):\n",
    "    df1=_get_base_pos_demo(annots,gene_ids=gene_ids).rename(columns={'start':'pos'})\n",
    "    print(df1.head(1))"
   ]
  },
  {
   "cell_type": "markdown",
   "id": "d40435a8-594e-4d36-b03a-42d23e808c0c",
   "metadata": {},
   "source": [
    "#### Within regions"
   ]
  },
  {
   "cell_type": "code",
   "execution_count": null,
   "id": "0cca8182-5d6d-4959-a9ea-713d7b1830b2",
   "metadata": {
    "editable": true,
    "slideshow": {
     "slide_type": ""
    },
    "tags": []
   },
   "outputs": [],
   "source": [
    "if mutation_format=='base' and mutation_scan.startswith('reg'):\n",
    "    df1=_get_base_pos_demo(annots,gene_ids=gene_ids).assign(end=lambda df: df['start']+10)\n",
    "    print(df1.head(1))"
   ]
  },
  {
   "cell_type": "markdown",
   "id": "acde0345-d55e-490e-80f4-a07c4e0a4246",
   "metadata": {},
   "source": [
    "## Protein"
   ]
  },
  {
   "cell_type": "markdown",
   "id": "45c8e610-ac2f-4db4-bed5-c06357ca8da7",
   "metadata": {},
   "source": [
    "### Get protein IDs"
   ]
  },
  {
   "cell_type": "code",
   "execution_count": null,
   "id": "94df2c38-8e83-4be7-9c6d-6cceeead4c6a",
   "metadata": {},
   "outputs": [],
   "source": [
    "from beditor.lib.utils import to_pid\n",
    "\n",
    "if mutation_format=='protein':\n",
    "    df1=(pd.DataFrame({'gene id':gene_ids})\n",
    "        .assign(**{\n",
    "            'protein id':lambda df: df['gene id'].apply(lambda x: to_pid(annots,x)),\n",
    "        })\n",
    "        .log.dropna()\n",
    "        )\n",
    "    print(df1.head())"
   ]
  },
  {
   "cell_type": "markdown",
   "id": "5cd82752-368e-4e3d-8e00-39cba0855819",
   "metadata": {},
   "source": [
    "### Mutations"
   ]
  },
  {
   "cell_type": "code",
   "execution_count": null,
   "id": "8f262b17-8ef1-46df-881d-32f7b47a1a6c",
   "metadata": {},
   "outputs": [],
   "source": [
    "if mutation_format=='protein' and mutation_scan is None:\n",
    "    pass"
   ]
  },
  {
   "cell_type": "markdown",
   "id": "4b4437cb-180a-4077-b38c-9f148443a03d",
   "metadata": {},
   "source": [
    "### Scanning"
   ]
  },
  {
   "cell_type": "markdown",
   "id": "d5f1dccf-a872-4053-a3a2-c63fb2f938d8",
   "metadata": {},
   "source": [
    "#### At residue positions"
   ]
  },
  {
   "cell_type": "code",
   "execution_count": null,
   "id": "f71ec6ff-c717-445e-9d81-44d280cc6619",
   "metadata": {
    "tags": []
   },
   "outputs": [],
   "source": [
    "if mutation_format=='protein' and mutation_scan.startswith('pos'):\n",
    "    df1=(df1\n",
    "        .assign(**{\n",
    "            'aa pos':lambda df: df['protein id'].apply(lambda x: list(range(1,len(annots.protein_sequence(x))+1,scanning_interval))),\n",
    "        })\n",
    "        .explode('aa pos')\n",
    "        )\n",
    "    print(df1.head(1))"
   ]
  },
  {
   "cell_type": "markdown",
   "id": "467746f5-eb36-4dfa-80e8-70f03ca9dd9a",
   "metadata": {},
   "source": [
    "#### Within regions of protein"
   ]
  },
  {
   "cell_type": "code",
   "execution_count": null,
   "id": "63c6d5b8-97f6-490d-a213-c3b99fbcd2ac",
   "metadata": {},
   "outputs": [],
   "source": [
    "if mutation_format=='protein' and mutation_scan.startswith('reg'):\n",
    "    df1=df1.assign(**{\n",
    "        'aa start':1,\n",
    "        'aa end':lambda df: df['protein id'].apply(lambda x: len(annots.transcript_by_protein_id(x).protein_sequence)//2),\n",
    "    })    \n",
    "    print(df1.head(1))"
   ]
  },
  {
   "cell_type": "markdown",
   "id": "721c05ae-ce00-4b23-b64f-e8ff1bd50530",
   "metadata": {},
   "source": [
    "## Output \n",
    "### Mutations"
   ]
  },
  {
   "cell_type": "code",
   "execution_count": null,
   "id": "20376fa2-9bce-415e-927f-45de264604ae",
   "metadata": {},
   "outputs": [],
   "source": [
    "to_table(df1,mutations_path)"
   ]
  },
  {
   "cell_type": "markdown",
   "id": "30b53c8c-c5e0-40b1-bf13-a9c43bc1269a",
   "metadata": {},
   "source": [
    "### Config"
   ]
  },
  {
   "cell_type": "code",
   "execution_count": null,
   "id": "670620d9-d0ba-4726-8455-57def01b7038",
   "metadata": {},
   "outputs": [],
   "source": [
    "import yaml\n",
    "cfg_base=yaml.safe_load(\"\"\"input_path:\n",
    "output_path:\n",
    "method:\n",
    "search_window:\n",
    "## for species registered in pyensembl\n",
    "species_name:\n",
    "release:\n",
    "## for non-registered species\n",
    "genome_path:\n",
    "gtf_path:\n",
    "transcript_path:\n",
    "protein_path:\n",
    "\n",
    "not_be:\n",
    "threads:\n",
    "force: False\n",
    "verbose: False\n",
    "test: False\"\"\")\n",
    "# cfg_base"
   ]
  },
  {
   "cell_type": "code",
   "execution_count": null,
   "id": "144513f6-c3a3-4105-bdf6-99117752c0ec",
   "metadata": {},
   "outputs": [],
   "source": [
    "if genome_path is None:\n",
    "    from beditor.lib.io import download_genome\n",
    "    genome_path=download_genome(\n",
    "        species=species_name,\n",
    "        ensembl_release=release,\n",
    "        force=False,\n",
    "        verbose=True,\n",
    "        )"
   ]
  },
  {
   "cell_type": "code",
   "execution_count": null,
   "id": "fd848ac5-4245-4ba2-b87d-e88fd2da7e38",
   "metadata": {},
   "outputs": [],
   "source": [
    "cfg=cfg_base.copy()\n",
    "cfg['input_path']=mutations_path\n",
    "cfg['method']='Cas12a-BE'\n",
    "cfg['species_name']=species_name\n",
    "cfg['release']=release\n",
    "cfg['genome_path']=genome_path\n",
    "cfg['gtf_path']=gtf_path\n",
    "cfg['transcript_path']=transcript_path\n",
    "cfg['protein_path']=protein_path\n",
    "\n",
    "# cfg['output_dir_path']=str(Path(output_path).with_suffix(''))+f'/{get_datetime()}/'\n",
    "cfg['output_dir_path']=f\"outputs{'_'+species_name if not species_name is None else ''}/{mutation_format}/{mutation_scan}/\"\n",
    "cfg['not_be']=False\n",
    "\n",
    "cfg"
   ]
  },
  {
   "cell_type": "code",
   "execution_count": null,
   "id": "686f3339-297f-4d46-9266-dfe582fa62ca",
   "metadata": {
    "tags": []
   },
   "outputs": [],
   "source": [
    "to_dict({'run':cfg},output_path)"
   ]
  }
 ],
 "metadata": {
  "kernelspec": {
   "display_name": "beditor",
   "language": "python",
   "name": "beditor"
  },
  "language_info": {
   "codemirror_mode": {
    "name": "ipython",
    "version": 3
   },
   "file_extension": ".py",
   "mimetype": "text/x-python",
   "name": "python",
   "nbconvert_exporter": "python",
   "pygments_lexer": "ipython3",
   "version": "3.9.18"
  }
 },
 "nbformat": 4,
 "nbformat_minor": 5
}
