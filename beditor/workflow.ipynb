{
 "cells": [
  {
   "cell_type": "markdown",
   "id": "bbb3d42b-e0f2-464d-b0b5-2abd463f59b8",
   "metadata": {},
   "source": [
    "# Workflow"
   ]
  },
  {
   "cell_type": "code",
   "execution_count": null,
   "id": "d9bf404d-2005-4b40-8089-4b807491484d",
   "metadata": {},
   "outputs": [],
   "source": [
    "import logging\n",
    "import sys\n",
    "from pathlib import Path\n",
    "\n",
    "# logging.basicConfig(level=logging.INFO,)\n",
    "logging.basicConfig(\n",
    "    level=logging.DEBUG,\n",
    ")\n",
    "\n",
    "import warnings\n",
    "\n",
    "import pandas as pd\n",
    "from Bio import BiopythonDeprecationWarning\n",
    "from roux.lib.io import read_table, to_dict, to_table\n",
    "from roux.lib.sys import makedirs\n",
    "\n",
    "# Suppress BiopythonDeprecationWarning\n",
    "warnings.filterwarnings(\"ignore\", category=BiopythonDeprecationWarning)\n",
    "# Suppress FutureWarning from Pandas\n",
    "warnings.filterwarnings(\"ignore\", category=FutureWarning)"
   ]
  },
  {
   "cell_type": "code",
   "execution_count": null,
   "id": "67c406a6-14de-409a-8291-10663f3c43c9",
   "metadata": {
    "tags": [
     "parameters"
    ]
   },
   "outputs": [],
   "source": [
    "## parameters\n",
    "method = None  #'Cas12a-BE' # one method for one run\n",
    "input_path = None  #'inputs/mutations.tsv'\n",
    "output_path = None  #'outputs/05_small.tsv'\n",
    "output_dir_path = None\n",
    "\n",
    "species_name = None  ## for pyensembl\n",
    "release = None\n",
    "\n",
    "genome_path = None  #'inputs/dna.fa'\n",
    "gtf_path = None  #'inputs/ann.gtf'\n",
    "transcript_path = None  # \"inputs/RNA.fa\"\n",
    "protein_path = None  # \"inputs/Protein.fa\"\n",
    "\n",
    "search_window = (\n",
    "    None  ## bases left and right of the target to define the region to design guides in\n",
    ")\n",
    "not_be = False  # non-base editing applications (skips filtering by the editable base)\n",
    "\n",
    "## offtargets\n",
    "alignments_max = 3\n",
    "\n",
    "## default\n",
    "output_fn = \"05_small\"\n",
    "output_ext = None\n",
    "wd_path = None\n",
    "igv_path_prefix = None\n",
    "threads = 1\n",
    "force = False\n",
    "dbug = False\n",
    "verbose = False\n",
    "test = None  # to sppress Passed unknown parameter: test warning"
   ]
  },
  {
   "cell_type": "markdown",
   "id": "3897a3cc-dd7a-45b2-b755-3b07c532d3de",
   "metadata": {},
   "source": [
    "## Inputs for the workflow"
   ]
  },
  {
   "cell_type": "code",
   "execution_count": null,
   "id": "b3193c0e-2ca4-4981-b704-eee44b895b65",
   "metadata": {},
   "outputs": [],
   "source": [
    "## inferred parameters\n",
    "assert not (\n",
    "    output_path is None and output_dir_path is None\n",
    "), \"either output_dir_path or output_path are required\"\n",
    "assert not (\n",
    "    output_path is not None and output_dir_path is not None\n",
    "), \"either output_dir_path or output_path are required, not both\"\n",
    "\n",
    "if output_path is None and output_dir_path is not None:\n",
    "    output_path = f\"{output_dir_path}/{output_fn}.tsv\"\n",
    "    logging.info(f\"Output path:{output_path}\")\n",
    "\n",
    "if output_path is not None and output_dir_path is None:\n",
    "    output_dir_path = Path(output_path).parent\n",
    "    logging.info(f\"Output directory path:{output_dir_path}\")\n",
    "\n",
    "if output_ext is None:\n",
    "    output_ext = \"tsv\"\n",
    "## paths of files within the package\n",
    "# import site\n",
    "# bwa_path=f\"{site.getsitepackages()[0]}/beditor/bwa/bwa\"\n",
    "# methods_path=f\"{site.getsitepackages()[0]}/beditor/data/methods.tsv\"#'../beditor/data/dbepams.tsv'\n",
    "# if not Path(methods_path).exists():\n",
    "#     ## if the package is installed in the development mode\n",
    "#     import beditor\n",
    "#     bwa_path=bwa_path.replace(site.getsitepackages()[0],str(Path(beditor.__file__).parent.parent))\n",
    "#     methods_path=methods_path.replace(site.getsitepackages()[0],str(Path(beditor.__file__).parent.parent))\n",
    "\n",
    "from beditor.lib.utils import get_src_path\n",
    "\n",
    "# %run run.py\n",
    "bwa_path = f\"{get_src_path()}/bwa/bwa\"\n",
    "methods_path = f\"{get_src_path()}/data/methods.tsv\"  #'../beditor/data/dbepams.tsv'\n",
    "assert Path(bwa_path).exists(), bwa_path\n",
    "assert Path(methods_path).exists(), methods_path"
   ]
  },
  {
   "cell_type": "code",
   "execution_count": null,
   "id": "cb5821f8-5876-45df-915e-4eae05593790",
   "metadata": {},
   "outputs": [],
   "source": [
    "if wd_path is not None:\n",
    "    import os\n",
    "\n",
    "    os.chdir(wd_path)\n",
    "    logging.debug(f\"cwd={wd_path}\")"
   ]
  },
  {
   "cell_type": "markdown",
   "id": "8fc9321f-57a5-4fda-a142-6d49d44771de",
   "metadata": {},
   "source": [
    "### Output paths"
   ]
  },
  {
   "cell_type": "code",
   "execution_count": null,
   "id": "2b1d75b1-da6b-4fc2-ac57-4fc05a15987e",
   "metadata": {},
   "outputs": [],
   "source": [
    "output_paths = pd.Series(\n",
    "    dict(\n",
    "        output_dir_path=str(output_dir_path),\n",
    "        input_species=f\"{output_dir_path}/00_inputs/species.yaml\",\n",
    "        input_pams=f\"{output_dir_path}/00_inputs/pam.tsv\",\n",
    "        input_mutations=f\"{output_dir_path}/00_inputs/mutations.{output_ext}\",\n",
    "        protein_pos_dir=f\"{output_dir_path}/00_inputs/protein_positions\",\n",
    "        sequences=f\"{output_dir_path}/01_sequences.{output_ext}\",\n",
    "        targets_bed=f\"{output_dir_path}/01_sequences/targets.bed\",\n",
    "        flanks_bed=f\"{output_dir_path}/01_sequences/flanks.bed\",\n",
    "        pam_searches=f\"{output_dir_path}/03_guides/00_pam_searches.{output_ext}\",\n",
    "        guides_filtered=f\"{output_dir_path}/03_guides/01_guides_filtered.{output_ext}\",\n",
    "        guides=f\"{output_dir_path}/03_guides.{output_ext}\",\n",
    "        alignments=f\"{output_dir_path}/04_offtargets/00_alignments.{output_ext}\",\n",
    "        alignments_extra_bed=f\"{output_dir_path}/04_offtargets/00_alignments_extra.bed\",\n",
    "        alignment_penalties=f\"{output_dir_path}/04_offtargets/01_alignments_penalties.{output_ext}\",\n",
    "        alignments_mapped=f\"{output_dir_path}/04_offtargets/01_mappedby_alignments.{output_ext}\",\n",
    "        pam_bed=f\"{output_dir_path}/04_offtargets/pams.bed\",\n",
    "        offtargets=f\"{output_dir_path}/04_offtargets.{output_ext}\",\n",
    "        output_full=f\"{output_dir_path}/05_full.{output_ext}\",\n",
    "        output=output_path,\n",
    "    )\n",
    ")\n",
    "to_dict(output_paths.to_dict(), f\"{output_dir_path}/output_paths.yaml\")\n",
    "output_paths_exist = output_paths.apply(lambda x: Path(x).exists())\n",
    "if output_paths_exist.all() and not force:\n",
    "    logging.warning(\"Output exists. Use force to overwrite them.\")\n",
    "    sys.exit(0)\n",
    "elif output_paths_exist.any() and not force:\n",
    "    logging.warning(\n",
    "        f\"Output exists for {output_paths_exist.sum()/len(output_paths_exist)} outputs. Use force to overwrite them.\"\n",
    "    )\n",
    "    # output_paths[output_paths_exist]=''"
   ]
  },
  {
   "cell_type": "markdown",
   "id": "4275bdaa-abe3-4b4d-ab8a-4cd04c3cacb1",
   "metadata": {},
   "source": [
    "## Input data"
   ]
  },
  {
   "cell_type": "code",
   "execution_count": null,
   "id": "3a3fc263-4335-42df-92ff-37013734056f",
   "metadata": {
    "tags": []
   },
   "outputs": [],
   "source": [
    "assert (\n",
    "    sum([k is not None for k in [species_name, release]]) == 2\n",
    "    or sum(\n",
    "        [k is not None for k in [genome_path, gtf_path, transcript_path, protein_path]]\n",
    "    )\n",
    "    >= 2\n",
    "), \"Either Ensembl genome information or the paths to the files are needed (not both). \"\n",
    "custom_genome = sum([k is not None for k in [species_name, release]]) == 0"
   ]
  },
  {
   "cell_type": "markdown",
   "id": "e3ac2c17-49a1-4e30-8968-9db59f1b9712",
   "metadata": {},
   "source": [
    "### Annotations\n",
    "\n",
    "Note: for species given species of interest, generate the `data` object by referring to the documentation of [`pyensembl`](https://github.com/openvax/pyensembl?tab=readme-ov-file#installation)"
   ]
  },
  {
   "cell_type": "code",
   "execution_count": null,
   "id": "4c4c3e74-761f-412d-ba8f-e04d0b8b4e06",
   "metadata": {
    "tags": []
   },
   "outputs": [],
   "source": [
    "from beditor.lib.utils import get_annots\n",
    "\n",
    "annots = get_annots(\n",
    "    species_name=species_name,\n",
    "    release=release,\n",
    "    gtf_path=gtf_path,\n",
    "    transcript_path=transcript_path,\n",
    "    protein_path=protein_path,\n",
    "    reference_name=\"assembly\",\n",
    "    annotation_name=\"source\",\n",
    "    # **kws_Genome,\n",
    ")"
   ]
  },
  {
   "cell_type": "code",
   "execution_count": null,
   "id": "cdf2441e-c883-4150-b231-013bcdc8ea7b",
   "metadata": {},
   "outputs": [],
   "source": [
    "## gtf file needed for the visualizations e.g. igv\n",
    "if gtf_path is None:\n",
    "    gtf_path = annots.gtf_path\n",
    "    if gtf_path is None:\n",
    "        from beditor.lib.io import to_downloaded_cached_path\n",
    "\n",
    "        gtf_path = to_downloaded_cached_path(\n",
    "            annots=annots,\n",
    "            url=annots.gtf_url,\n",
    "        )\n",
    "assert Path(gtf_path).exists()"
   ]
  },
  {
   "cell_type": "markdown",
   "id": "32c388a6-378d-4b80-9a56-e15c978d782d",
   "metadata": {
    "tags": []
   },
   "source": [
    "### Genome sequence "
   ]
  },
  {
   "cell_type": "code",
   "execution_count": null,
   "id": "e2424789-6aa2-44ee-9554-1244f0ee71b7",
   "metadata": {},
   "outputs": [],
   "source": [
    "if not custom_genome:\n",
    "    from beditor.lib.io import download_genome\n",
    "\n",
    "    genome_path = download_genome(\n",
    "        species=species_name,\n",
    "        ensembl_release=release,\n",
    "        # force=force,\n",
    "        verbose=True,\n",
    "    )\n",
    "    assert Path(genome_path).exists()"
   ]
  },
  {
   "cell_type": "code",
   "execution_count": null,
   "id": "ed8cac9d-211d-4d08-914c-80f6ffcd49fa",
   "metadata": {},
   "outputs": [],
   "source": [
    "%%time\n",
    "genome_is_large = Path(genome_path).stat().st_size > 200000000\n",
    "# if genome_is_large:\n",
    "    # logging.info(\n",
    "    #     \"indexing large genome. this is a time-taking step, but would save time subsequently.\"\n",
    "    # )\n",
    "from beditor.lib.io import to_2bit,to_fasta_index\n",
    "try: \n",
    "    to_2bit(\n",
    "        genome_path\n",
    "    )\n",
    "except:\n",
    "    logging.warning(\n",
    "\"\"\"\n",
    "For fast processing of large genomes (highly recommended for human genome):\n",
    "\n",
    "```\n",
    "conda install install bioconda::ucsc-fatotwobit bioconda::ucsc-twobittofa bioconda::ucsc-twobitinfo # options: conda/mamba\n",
    "```\n",
    "\"\"\"    \n",
    "    )\n",
    "genome_path = to_fasta_index(\n",
    "    genome_path=genome_path,\n",
    "    bgzip_path=None,\n",
    "    threads=threads,\n",
    "    verbose=True,\n",
    "    force=False,\n",
    "    indexed=False,\n",
    ")\n",
    "logging.info(f\"genome_path={genome_path}\")\n",
    "# else:\n",
    "#     # genome_is_large=False\n",
    "#     from beditor.lib.io import read_genome\n",
    "\n",
    "#     genome = read_genome(genome_path)"
   ]
  },
  {
   "cell_type": "code",
   "execution_count": null,
   "id": "486eed3b-4f06-4b0c-9536-fdbd6ac14fbf",
   "metadata": {},
   "outputs": [],
   "source": [
    "to_dict(\n",
    "    dict(\n",
    "        genome_path=genome_path,\n",
    "        gtf_path=gtf_path,\n",
    "    ),\n",
    "    output_paths[\"input_species\"],\n",
    ")"
   ]
  },
  {
   "cell_type": "markdown",
   "id": "6e089aab-ca67-417c-9a86-b76655586c2b",
   "metadata": {},
   "source": [
    "### Method"
   ]
  },
  {
   "cell_type": "code",
   "execution_count": null,
   "id": "c280d85e-051b-4f89-8168-db4ba8c51052",
   "metadata": {},
   "outputs": [],
   "source": [
    "dbepams = read_table(methods_path, params=dict(sep=\"\\t\", keep_default_na=False))"
   ]
  },
  {
   "cell_type": "code",
   "execution_count": null,
   "id": "84fe915c-f9d9-4f23-82f2-edc1cd339112",
   "metadata": {},
   "outputs": [],
   "source": [
    "from beditor.lib.methods import get_be2dpam\n",
    "\n",
    "dpam = get_be2dpam(dbepams, methods=[method], test=True)[method].reset_index(drop=True)\n",
    "to_table(\n",
    "    dpam,\n",
    "    # f'{output_dir_path}/00_inputs/pam.tsv'\n",
    "    output_paths[\"input_pams\"],\n",
    ")"
   ]
  },
  {
   "cell_type": "code",
   "execution_count": null,
   "id": "9494c8e4-9c4f-404b-af67-f7fba608475a",
   "metadata": {},
   "outputs": [],
   "source": [
    "if search_window is None:\n",
    "    search_window = int(dpam[\"guide length\"].tolist()[0] * 2)\n",
    "    logging.info(f\"search_window={search_window}\")"
   ]
  },
  {
   "cell_type": "code",
   "execution_count": null,
   "id": "3b726250-85ff-42e2-b727-6bd7a23fd948",
   "metadata": {},
   "outputs": [],
   "source": [
    "dpam.head()"
   ]
  },
  {
   "cell_type": "code",
   "execution_count": null,
   "id": "c07a855f-31f2-4b0a-bbc9-2b8e22487b30",
   "metadata": {
    "tags": []
   },
   "outputs": [],
   "source": [
    "cfg_method = {\n",
    "    **dbepams.query(f\"`method` == '{method}'\").iloc[0, :].to_dict(),\n",
    "    **dpam.query(\"`strand` == '+'\").iloc[0, :].to_dict(),\n",
    "}"
   ]
  },
  {
   "cell_type": "code",
   "execution_count": null,
   "id": "6c520a53-2fec-4cce-9e54-061a973bf77b",
   "metadata": {
    "tags": []
   },
   "outputs": [],
   "source": [
    "cfg_method[\"PAM length\"] = len(cfg_method[\"PAM\"])\n",
    "cfg_method[\"guide+PAM length\"] = cfg_method[\"guide length\"] + cfg_method[\"PAM length\"]\n",
    "cfg_method"
   ]
  },
  {
   "cell_type": "code",
   "execution_count": null,
   "id": "2873e521-834c-4678-8b6d-bf0e0cba9eea",
   "metadata": {
    "tags": []
   },
   "outputs": [],
   "source": [
    "to_dict(cfg_method, f\"{output_dir_path}/00_inputs/pam.yaml\")"
   ]
  },
  {
   "cell_type": "markdown",
   "id": "dfa43dbd-8846-4dce-b914-f4d8baa9614f",
   "metadata": {},
   "source": [
    "### Mutations"
   ]
  },
  {
   "cell_type": "code",
   "execution_count": null,
   "id": "76971e14-6c06-4506-9b69-d1dfa4821478",
   "metadata": {
    "tags": []
   },
   "outputs": [],
   "source": [
    "if isinstance(input_path, str):\n",
    "    df0 = read_table(input_path, ext='tsv')\n",
    "elif isinstance(input_path, pd.DataFrame):\n",
    "    df0 = input_path\n",
    "df0 = df0.log.drop_duplicates()\n",
    "df0.head(1)"
   ]
  },
  {
   "cell_type": "code",
   "execution_count": null,
   "id": "e7f74a1c-ca3d-4ca1-84f5-6c8aaf3df0ef",
   "metadata": {},
   "outputs": [],
   "source": [
    "if \"protein id\" in df0:\n",
    "    mutation_format = \"protein\"\n",
    "    if \"mutation\" in df0:\n",
    "        mutation_type = \"point\"\n",
    "    elif not \"aa end\":\n",
    "        mutation_type = \"position\"\n",
    "    else:\n",
    "        mutation_type = \"region\"\n",
    "else:\n",
    "    mutation_format = \"base\"\n",
    "    if \"mutation\" in df0:\n",
    "        mutation_type = \"point\"\n",
    "    elif not \"end\":\n",
    "        mutation_type = \"position\"\n",
    "    else:\n",
    "        mutation_type = \"region\"\n",
    "if mutation_type == \"point\" and not_be:\n",
    "    not_be = False\n",
    "    logging.warning(\"not_be set to False because input comtains point mutations\")"
   ]
  },
  {
   "cell_type": "code",
   "execution_count": null,
   "id": "bc806c9b-5491-48f9-8ea7-87c91923d8db",
   "metadata": {},
   "outputs": [],
   "source": [
    "if mutation_format == \"base\" and mutation_type == \"point\":\n",
    "    df0, df0_ = (\n",
    "        df0.log.query(expr=f\"`mutation` == '{cfg_method['nucleotide mutation']}'\"),\n",
    "        df0.log.query(expr=f\"`mutation` != '{cfg_method['nucleotide mutation']}'\"),\n",
    "    )\n",
    "    to_table(\n",
    "        df0,\n",
    "        Path(output_paths[\"input_mutations\"]).with_suffix(\"\").as_posix()\n",
    "        + \"_with_nt_mutation.tsv\",\n",
    "    )\n",
    "    to_table(\n",
    "        df0_,\n",
    "        Path(output_paths[\"input_mutations\"]).with_suffix(\"\").as_posix()\n",
    "        + \"_dropped_no_nt_mutation.tsv\",\n",
    "    )"
   ]
  },
  {
   "cell_type": "markdown",
   "id": "7e648b7d-ccc9-4af8-8697-f0a8914688b1",
   "metadata": {},
   "source": [
    "### Standardise input mutations in terms of the genome co-ordinates"
   ]
  },
  {
   "cell_type": "code",
   "execution_count": null,
   "id": "72ba3e2d-14f9-447c-997f-f426f4b16df5",
   "metadata": {},
   "outputs": [],
   "source": [
    "# outp=f'{output_dir_path}/00_inputs/mutations.{output_ext}'\n",
    "if not Path(output_paths[\"input_mutations\"]).exists() or force:\n",
    "    from beditor.lib.get_mutations import get_mutation_coords\n",
    "\n",
    "    df1 = get_mutation_coords(\n",
    "        df0,\n",
    "        annots,\n",
    "        search_window,\n",
    "        outd=None\n",
    "        if not_be or mutation_format == \"base\"\n",
    "        else output_paths[\"protein_pos_dir\"],\n",
    "        force=force,\n",
    "    )\n",
    "    to_table(df1, output_paths[\"input_mutations\"])\n",
    "else:\n",
    "    df1 = read_table(output_paths[\"input_mutations\"])\n",
    "df1.head(1)"
   ]
  },
  {
   "cell_type": "markdown",
   "id": "2e5cf079-fc89-4872-b11c-cbc2d7f6087a",
   "metadata": {},
   "source": [
    "## Get flanking sequence"
   ]
  },
  {
   "cell_type": "code",
   "execution_count": null,
   "id": "19e92529-9a92-4bce-b288-61d59e588ed3",
   "metadata": {
    "tags": []
   },
   "outputs": [],
   "source": [
    "%%time\n",
    "# outp=f'{output_dir_path}/01_sequences.{output_ext}'\n",
    "if not Path(output_paths[\"sequences\"]).exists() or force:\n",
    "    from beditor.lib.utils import get_flanking_seqs\n",
    "\n",
    "    df2 = get_flanking_seqs(\n",
    "        df1,\n",
    "        # fast=genome_is_large,\n",
    "        # fast=False,\n",
    "        genome=genome_path,  # if genome_is_large else genome,\n",
    "        targets_path=output_paths[\"targets_bed\"],\n",
    "        flanks_path=output_paths[\"flanks_bed\"],\n",
    "        search_window=search_window,\n",
    "    )\n",
    "\n",
    "    if mutation_format == \"protein\" and mutation_type != \"region\":\n",
    "        df2, df2_ = (\n",
    "            df2.log.query(expr=\"`sequence target`.str.len() == 3\"),\n",
    "            df2.log.query(expr=\"`sequence target`.str.len() != 3\"),\n",
    "        )\n",
    "        if len(df2_) != 0:\n",
    "            logging.warning(\n",
    "                f\"filtered out guides without editable nucleotide: {len(df2_)}, Check: \"\n",
    "                + to_table(\n",
    "                    df2_,\n",
    "                    Path(output_paths[\"sequences\"]).with_suffix(\"\").as_posix()\n",
    "                    + \"/dropped_possible_splice_junction.tsv\",\n",
    "                )\n",
    "            )\n",
    "        # If the length is the same as the target sequence test equality with the codon sequence\n",
    "        df_ = df1.loc[\n",
    "            :,\n",
    "            [\n",
    "                \"target location\",\n",
    "                \"sequence target codon\",\n",
    "            ],\n",
    "        ].merge(\n",
    "            right=df2.loc[\n",
    "                :,\n",
    "                [\n",
    "                    \"target location\",\n",
    "                    \"sequence target\",\n",
    "                ],\n",
    "            ],\n",
    "            on=\"target location\",\n",
    "            how=\"inner\",\n",
    "        )\n",
    "        assert df_.apply(\n",
    "            lambda x: x[\"sequence target codon\"] == x[\"sequence target\"], axis=1\n",
    "        ).all(), df_.query(expr=\"`sequence target codon`!=`sequence target`\")\n",
    "\n",
    "    assert all(df2[\"start flanking\"] < df2[\"end flanking\"])\n",
    "    to_table(df2, output_paths[\"sequences\"])\n",
    "else:\n",
    "    df2 = read_table(output_paths[\"sequences\"])\n",
    "df2.head(1)"
   ]
  },
  {
   "cell_type": "code",
   "execution_count": null,
   "id": "4cfb9676-eca7-4620-a4fb-357dacef0515",
   "metadata": {},
   "outputs": [],
   "source": [
    "if mutation_format == \"base\" and mutation_type == \"point\":\n",
    "    from beditor.lib.utils import str2seq\n",
    "\n",
    "    df2, df2_ = (\n",
    "        df2.log.query(\n",
    "            expr=f\"`sequence target` == ['{cfg_method['nucleotide']}','{str2seq(cfg_method['nucleotide']).reverse_complement()}']\"\n",
    "        ),\n",
    "        df2.log.query(\n",
    "            expr=f\"`sequence target` != ['{cfg_method['nucleotide']}','{str2seq(cfg_method['nucleotide']).reverse_complement()}']\"\n",
    "        ),\n",
    "    )\n",
    "    to_table(\n",
    "        df2,\n",
    "        Path(output_paths[\"targets_bed\"]).parent.as_posix()\n",
    "        + \"/mutations_with_nt_editable.tsv\",\n",
    "    )\n",
    "    to_table(\n",
    "        df2_,\n",
    "        Path(output_paths[\"targets_bed\"]).parent.as_posix()\n",
    "        + \"/mutations_dropped_no_nt_editable.tsv\",\n",
    "    )\n",
    "    logging.info(df2[\"sequence target\"].value_counts())\n",
    "df2.head(1)"
   ]
  },
  {
   "cell_type": "markdown",
   "id": "3b0e9fdd-b268-4b08-b8e6-864e7d64a72a",
   "metadata": {},
   "source": [
    "## Design"
   ]
  },
  {
   "cell_type": "code",
   "execution_count": null,
   "id": "a54efe67-8ae9-4857-923e-7a6ff7c4375d",
   "metadata": {},
   "outputs": [],
   "source": [
    "# outp=f'{output_dir_path}/03_guides/00_pam_searches.{output_ext}'\n",
    "if not Path(output_paths[\"pam_searches\"]).exists() or force:\n",
    "    from beditor.lib.make_guides import get_guides\n",
    "\n",
    "    # %run ../../beditor/beditor/lib/make_guides.py\n",
    "    df3 = get_guides(df2, dpam, guide_len=cfg_method[\"guide length\"])\n",
    "\n",
    "    to_table(df3, output_paths[\"pam_searches\"])\n",
    "else:\n",
    "    df3 = read_table(output_paths[\"pam_searches\"])\n",
    "df3.head(1)"
   ]
  },
  {
   "cell_type": "markdown",
   "id": "fddb78b2-c2f1-479d-b862-907f65878d42",
   "metadata": {},
   "source": [
    "### Map to the mutation"
   ]
  },
  {
   "cell_type": "code",
   "execution_count": null,
   "id": "688d7308-99f4-41e1-8bd4-dbbef1532dc3",
   "metadata": {
    "tags": []
   },
   "outputs": [],
   "source": [
    "from beditor.lib.make_guides import get_distances\n",
    "\n",
    "df4 = get_distances(\n",
    "    df2,\n",
    "    df3,\n",
    "    cfg_method,\n",
    ")\n",
    "df4.head(1)"
   ]
  },
  {
   "cell_type": "markdown",
   "id": "126d5487-f187-4de7-996d-03856395026b",
   "metadata": {
    "papermill": {
     "duration": 0.006693,
     "end_time": "2024-02-03T17:45:06.131902",
     "exception": false,
     "start_time": "2024-02-03T17:45:06.125209",
     "status": "completed"
    },
    "tags": []
   },
   "source": [
    "## Filter based on base-editing"
   ]
  },
  {
   "cell_type": "markdown",
   "id": "0f0d8925-5a5e-4068-9119-57589e224bc3",
   "metadata": {},
   "source": [
    "### If the base exists in the activity window"
   ]
  },
  {
   "cell_type": "code",
   "execution_count": null,
   "id": "9f533af2-8fa5-4cfb-9909-4ef9082e3b3e",
   "metadata": {
    "papermill": {
     "duration": 0.011271,
     "end_time": "2024-02-03T17:45:06.149571",
     "exception": false,
     "start_time": "2024-02-03T17:45:06.138300",
     "status": "completed"
    },
    "tags": []
   },
   "outputs": [],
   "source": [
    "if not not_be:\n",
    "    from beditor.lib.make_guides import filter_guides\n",
    "\n",
    "    # %run ../beditor/lib/make_guides.py\n",
    "    df4, df4_ = filter_guides(df4, cfg_method)\n",
    "    to_table(\n",
    "        df4,\n",
    "        output_paths[\"guides_filtered\"],\n",
    "    )\n",
    "    if len(df4_) != 0:\n",
    "        logging.warning(\n",
    "            f\"filtered out guides without editable nucleotide: {df4_['guide sequence'].nunique()}, Check: \"\n",
    "            + to_table(\n",
    "                df4_,\n",
    "                str(Path(output_paths[\"guides_filtered\"]).with_suffix(\"\"))\n",
    "                + \"_dropped.tsv\",\n",
    "            )\n",
    "        )\n",
    "df4.head(1)"
   ]
  },
  {
   "cell_type": "markdown",
   "id": "6c4db3db-1650-425c-81f3-10d868c2d13f",
   "metadata": {},
   "source": [
    "### If window overlaps target"
   ]
  },
  {
   "cell_type": "code",
   "execution_count": null,
   "id": "84d8ffd4-67e2-47af-9405-b959601fd40c",
   "metadata": {
    "tags": []
   },
   "outputs": [],
   "source": [
    "if not not_be:\n",
    "    from beditor.lib.make_guides import get_window_target_overlap\n",
    "\n",
    "    # %run ../beditor/lib/make_guides.py\n",
    "    df5 = df4.assign(\n",
    "        **{\n",
    "            \"window_overlaps_the_target,wts,nt_in_overlap,wtl\": lambda df: df.apply(\n",
    "                lambda x: get_window_target_overlap(\n",
    "                    tstart=x[\"start\"],\n",
    "                    tend=x[\"end\"],\n",
    "                    wl=x[\"window locus\"],\n",
    "                    ws=x[\"window sequence\"],\n",
    "                    nt=cfg_method[\"nucleotide\"],\n",
    "                    # verbose=True,\n",
    "                ),\n",
    "                axis=1,\n",
    "            ),\n",
    "            \"window target overlap\": lambda df: df[\n",
    "                \"window_overlaps_the_target,wts,nt_in_overlap,wtl\"\n",
    "            ]\n",
    "            .apply(lambda x: x[0])\n",
    "            .fillna(False),\n",
    "            \"window target overlap sequence\": lambda df: df[\n",
    "                \"window_overlaps_the_target,wts,nt_in_overlap,wtl\"\n",
    "            ].apply(lambda x: x[1]),\n",
    "            \"window target overlap editable\": lambda df: df[\n",
    "                \"window_overlaps_the_target,wts,nt_in_overlap,wtl\"\n",
    "            ]\n",
    "            .apply(lambda x: x[2])\n",
    "            .fillna(False),\n",
    "            \"window target overlap locus\": lambda df: df[\n",
    "                \"window_overlaps_the_target,wts,nt_in_overlap,wtl\"\n",
    "            ].apply(lambda x: x[3]),\n",
    "        },\n",
    "    ).drop([\"window_overlaps_the_target,wts,nt_in_overlap,wtl\"], axis=1)\n",
    "    df5, df5_ = (\n",
    "        df5.log.query(expr=\"`window target overlap editable`==True\"),\n",
    "        df5.log.query(expr=\"`window target overlap editable`==False\"),\n",
    "    )\n",
    "    if len(df5_) != 0:\n",
    "        logging.warning(\n",
    "            f\"filtered out guides without editable nucleotide in window-target overlap: {df5_['guide sequence'].nunique()}, Check: \"\n",
    "            + to_table(\n",
    "                df5_,\n",
    "                str(Path(output_paths[\"guides_filtered\"]).with_suffix(\"\"))\n",
    "                + \"_dropped_target_not_in_window_target_overlap.tsv\",\n",
    "            )\n",
    "        )\n",
    "else:\n",
    "    df5 = df4.copy()\n",
    "df5.head(1)"
   ]
  },
  {
   "cell_type": "code",
   "execution_count": null,
   "id": "223943f3-4ad3-4d55-b70c-384389cbf9a2",
   "metadata": {},
   "outputs": [],
   "source": [
    "if mutation_format == \"base\" and mutation_type == \"point\":\n",
    "    assert (df5[\"window target overlap sequence\"].str.len() == 1).all(), (\n",
    "        df5[\"window target overlap sequence\"].str.len() == 1\n",
    "    ).sum()"
   ]
  },
  {
   "cell_type": "markdown",
   "id": "3fe54010-35a0-4a5c-8ed4-214bcf988127",
   "metadata": {
    "papermill": {
     "duration": 0.00625,
     "end_time": "2024-02-03T17:45:06.162389",
     "exception": false,
     "start_time": "2024-02-03T17:45:06.156139",
     "status": "completed"
    },
    "tags": []
   },
   "source": [
    "### If the edited mutation matches target mutation"
   ]
  },
  {
   "cell_type": "code",
   "execution_count": null,
   "id": "ebd45332-7def-4d2a-8f57-54c096c19b08",
   "metadata": {
    "tags": []
   },
   "outputs": [],
   "source": [
    "if not not_be:\n",
    "    from roux.lib.str import get_bracket\n",
    "\n",
    "    from beditor.lib.utils import str2seq\n",
    "\n",
    "    ## get edited sequence\n",
    "    df5 = df5.assign(\n",
    "        **{\n",
    "            \"window target overlap edited sequence\": lambda df: df[\n",
    "                \"window target overlap sequence\"\n",
    "            ].str.replace(\n",
    "                cfg_method[\"nucleotide\"],\n",
    "                cfg_method[\"nucleotide mutation\"],\n",
    "            ),\n",
    "            \"edited sequence\": lambda df: df.apply(\n",
    "                lambda x: x[\"window target overlap edited sequence\"]\n",
    "                if x[\"strand\"] == get_bracket(x[\"window locus\"])\n",
    "                else str(\n",
    "                    str2seq(x[\"window target overlap edited sequence\"]).complement()\n",
    "                ),\n",
    "                axis=1,\n",
    "            ),\n",
    "        }\n",
    "    ).log(\"guide locus\")\n",
    "df5.head(1)"
   ]
  },
  {
   "cell_type": "code",
   "execution_count": null,
   "id": "57b5d809-244c-4034-bffa-3163bd8c0793",
   "metadata": {
    "tags": []
   },
   "outputs": [],
   "source": [
    "if not not_be and mutation_type == \"point\":\n",
    "    cols_right = [\"target location\", \"mutation\"] + (\n",
    "        [\"protein id\", \"sequence target codon\", \"aa pos\"]\n",
    "        if mutation_format == \"protein\"\n",
    "        else []\n",
    "    )\n",
    "    cols_merge = [\n",
    "        \"target location\"\n",
    "    ]  # list(set(df5.columns.tolist()) & set(df1.columns.tolist()))\n",
    "    df5 = (\n",
    "        df5.merge(\n",
    "            right=df1.loc[:, cols_right].log.drop_duplicates(),\n",
    "            how=\"inner\",\n",
    "            on=cols_merge,\n",
    "            #validate=\"1:m\" if mutation_format == \"base\" else \"m:m\",\n",
    "        ).log.drop_duplicates()\n",
    "    ).log(\"guide locus\")\n",
    "df5.head(1)"
   ]
  },
  {
   "cell_type": "code",
   "execution_count": null,
   "id": "bdce2b22-5d8f-4266-b62b-3fff4cec1621",
   "metadata": {
    "tags": []
   },
   "outputs": [],
   "source": [
    "if not not_be and mutation_format == \"protein\" and mutation_type == \"point\":\n",
    "    from beditor.lib.make_guides import get_mutated_codon\n",
    "\n",
    "    # if protein\n",
    "    # stich to the codon\n",
    "    df5 = df5.assign(\n",
    "        **{\n",
    "            \"edited codon sequence\": lambda df: df.apply(\n",
    "                lambda x: get_mutated_codon(\n",
    "                    tel=x[\"window target overlap locus\"],\n",
    "                    tes=x[\"edited sequence\"],\n",
    "                    tl=x[\"target location\"],\n",
    "                    ts=x[\"sequence target codon\"],\n",
    "                    strand=x[\"strand\"],\n",
    "                    # verbose=True,\n",
    "                ),\n",
    "                axis=1,\n",
    "            ),\n",
    "            \"edited aa\": lambda df: df[\"edited codon sequence\"].apply(\n",
    "                lambda x: str(str2seq(x).translate())\n",
    "            ),\n",
    "        },\n",
    "    ).log(\"guide locus\")\n",
    "    assert (df5[\"sequence target codon\"].str.len() == 3).all(), (\n",
    "        df5[\"sequence target codon\"].str.len() == 3\n",
    "    ).sum()\n",
    "    if mutation_type == \"point\":\n",
    "        df5, df5_ = (\n",
    "            df5.log.query(expr=\"`mutation`==`edited aa`\"),\n",
    "            df5.log.query(expr=\"`mutation`!=`edited aa`\"),\n",
    "        )\n",
    "        if len(df5_) != 0:\n",
    "            logging.warning(\n",
    "                f\"filtered out guides without editable nucleotide in window-target overlap: {df5_['guide sequence'].nunique()}, Check: \"\n",
    "                + to_table(\n",
    "                    df5_,\n",
    "                    str(Path(output_paths[\"guides_filtered\"]).with_suffix(\"\"))\n",
    "                    + \"_dropped_edited_does_not_match_mutation.tsv\",\n",
    "                )\n",
    "            )\n",
    "df5.head(1)"
   ]
  },
  {
   "cell_type": "markdown",
   "id": "ccd56589-85af-42c1-a085-4028ad84a937",
   "metadata": {},
   "source": [
    "### Co-edits"
   ]
  },
  {
   "cell_type": "code",
   "execution_count": null,
   "id": "a8ed9a39-a681-49ec-a63f-48ed63e35a4f",
   "metadata": {
    "tags": []
   },
   "outputs": [],
   "source": [
    "if not not_be:\n",
    "    # %run ../beditor/lib/make_guides.py\n",
    "    from beditor.lib.make_guides import get_coedits_base\n",
    "\n",
    "    df5 = df5.assign(\n",
    "        coedits=lambda df: df.apply(\n",
    "            lambda x: get_coedits_base(\n",
    "                wl=x[\"window locus\"],\n",
    "                ws=x[\"window sequence\"],\n",
    "                wtl=x[\"window target overlap locus\"],\n",
    "                wts=x[\"window target overlap sequence\"],\n",
    "                nt=cfg_method[\"nucleotide\"],\n",
    "                # verbose=True,\n",
    "            ),\n",
    "            axis=1,\n",
    "        )\n",
    "    )\n",
    "\n",
    "df5.head(1)"
   ]
  },
  {
   "cell_type": "markdown",
   "id": "4eec2b07-2c7f-4895-9214-a7c46de59e75",
   "metadata": {},
   "source": [
    "### Save guides"
   ]
  },
  {
   "cell_type": "code",
   "execution_count": null,
   "id": "9de77d5f-57e5-46d7-93ed-b06554b077ea",
   "metadata": {},
   "outputs": [],
   "source": [
    "to_table(df5, output_paths[\"guides\"])"
   ]
  },
  {
   "cell_type": "code",
   "execution_count": null,
   "id": "8e16a793-a48d-4832-97ef-580ac3aab892",
   "metadata": {},
   "outputs": [],
   "source": [
    "# %run ../beditor/lib/io_seqs.py\n",
    "from beditor.lib.io import to_fasta\n",
    "\n",
    "guides_path = to_fasta(\n",
    "    sequences=df5.assign(**{\"id\": lambda df: df[\"guide sequence\"]})\n",
    "    .set_index(\"id\")[\"guide sequence\"]\n",
    "    .to_dict(),\n",
    "    output_path=f\"{output_dir_path}/03_guides.fa\",\n",
    "    molecule_type=\"RNA\",\n",
    ")"
   ]
  },
  {
   "cell_type": "markdown",
   "id": "75fdb72f-efbc-4278-9540-0ebf7c54867f",
   "metadata": {
    "tags": []
   },
   "source": [
    "## Score (optional)"
   ]
  },
  {
   "cell_type": "markdown",
   "id": "1ced79b0-c7e2-4fe9-b7ea-7bd6e56853ad",
   "metadata": {},
   "source": [
    "### Alignment"
   ]
  },
  {
   "cell_type": "code",
   "execution_count": null,
   "id": "f9a64044-b6e2-42b9-a4ef-16061b6591cf",
   "metadata": {
    "tags": []
   },
   "outputs": [],
   "source": [
    "%%time\n",
    "align_path = makedirs(f\"{output_dir_path}/04_offtargets/alignment.sam\")\n",
    "if not Path(align_path).exists() or force:\n",
    "    # %run ../beditor/lib/get_specificity.py\n",
    "    from beditor.lib.get_specificity import run_alignment\n",
    "\n",
    "    align_path = run_alignment(\n",
    "        src_path=bwa_path,\n",
    "        genomep=genome_path,\n",
    "        guidesfap=guides_path,\n",
    "        guidel=cfg_method[\"guide length\"] + len(cfg_method[\"PAM\"]),\n",
    "        guidessamp=makedirs(f\"{output_dir_path}/04_offtargets/alignment.sam\"),\n",
    "        threads=threads,\n",
    "        verbose=True,\n",
    "        # test=True,\n",
    "    )"
   ]
  },
  {
   "cell_type": "code",
   "execution_count": null,
   "id": "fb612000-0d8b-4023-9336-9b1f5ff6a61b",
   "metadata": {},
   "outputs": [],
   "source": [
    "if not Path(output_paths[\"alignments\"]).exists() or force:\n",
    "    from beditor.lib.get_specificity import get_alignments\n",
    "\n",
    "    df6, df6_ = get_alignments(\n",
    "        align_path=align_path,\n",
    "        genome=genome_path,  # if genome_is_large else genome,\n",
    "        alignments_max=alignments_max,\n",
    "        pam_pos=cfg_method[\"PAM position\"],\n",
    "        pam_len=len(cfg_method[\"PAM\"]),\n",
    "        pam_pattern=cfg_method[\"rPAM\"],\n",
    "        guide_len=cfg_method[\"guide length\"],\n",
    "        threads=threads,\n",
    "        pam_bed_path=output_paths[\"pam_bed\"],\n",
    "        extra_bed_path=output_paths[\"alignments_extra_bed\"],\n",
    "        # fast=genome_is_large,\n",
    "        # fast=False,\n",
    "    )\n",
    "    to_table(df6, output_paths[\"alignments\"])\n",
    "    to_table(\n",
    "        df6_,\n",
    "        str(Path(output_paths[\"alignments\"]).with_suffix(\"\")) + \"_dropped_no_pam.tsv\",\n",
    "    )\n",
    "else:\n",
    "    df6 = read_table(output_paths[\"alignments\"])\n",
    "df6.head(1)"
   ]
  },
  {
   "cell_type": "markdown",
   "id": "2697fef6-710d-432c-add8-c11dcb52cf19",
   "metadata": {},
   "source": [
    "#### Drop the aligmnets without pam"
   ]
  },
  {
   "cell_type": "code",
   "execution_count": null,
   "id": "7638dbee-ea4a-4f8f-9d94-e48851cbadc7",
   "metadata": {
    "tags": []
   },
   "outputs": [],
   "source": []
  },
  {
   "cell_type": "markdown",
   "id": "663fecb3-ca6a-4a4f-9707-1ee874cc5ccc",
   "metadata": {},
   "source": [
    "### Calculate scores"
   ]
  },
  {
   "cell_type": "code",
   "execution_count": null,
   "id": "41872fe3-2508-43c3-a5a3-562c3dff6283",
   "metadata": {},
   "outputs": [],
   "source": [
    "# %run ../beditor/lib/get_specificity.py\n",
    "from beditor.lib.get_specificity import get_penalties, score_alignments, score_guides"
   ]
  },
  {
   "cell_type": "markdown",
   "id": "681f3934-0ef8-41f0-aca2-b8a27f8a5368",
   "metadata": {},
   "source": [
    "#### Per alignment"
   ]
  },
  {
   "cell_type": "code",
   "execution_count": null,
   "id": "13318ac6-f16e-49f1-b556-b7400c9adf90",
   "metadata": {},
   "outputs": [],
   "source": [
    "if not Path(output_paths[\"alignment_penalties\"]).exists() or force:\n",
    "    df6_ = get_penalties(\n",
    "        guides=df5,\n",
    "        aligns=df6,\n",
    "        annots=annots,\n",
    "    )\n",
    "    to_table(\n",
    "        df6_,\n",
    "        output_paths[\"alignment_penalties\"],\n",
    "    )\n",
    "else:\n",
    "    df6_ = read_table(output_paths[\"alignment_penalties\"])\n",
    "df6_.head(1)"
   ]
  },
  {
   "cell_type": "code",
   "execution_count": null,
   "id": "43a21d0d-b34d-4313-90b6-661104993ed7",
   "metadata": {
    "tags": []
   },
   "outputs": [],
   "source": [
    "if not Path(output_paths[\"alignments_mapped\"]).exists() or force:\n",
    "    df7, _df7 = score_alignments(\n",
    "        df6_, pam_len=len(cfg_method[\"PAM\"]), pam_pos=cfg_method[\"PAM position\"]\n",
    "    )\n",
    "    to_table(\n",
    "        df7,\n",
    "        output_paths[\"alignments_mapped\"],\n",
    "    )\n",
    "    if len(_df7) != 0:\n",
    "        logging.warning(\n",
    "            f\"on-target alignment not found for: {_df7['guide sequence'].nunique()}, Check: \"\n",
    "            + to_table(\n",
    "                _df7,\n",
    "                str(Path(output_paths[\"alignments_mapped\"]).with_suffix(\"\"))\n",
    "                + \"_dropped.tsv\",\n",
    "            )\n",
    "        )\n",
    "        logging.warning(f\"{_df7['aligned XT'].value_counts().to_string()}\")\n",
    "else:\n",
    "    df7 = read_table(output_paths[\"alignments_mapped\"])\n",
    "df7.head(1)"
   ]
  },
  {
   "cell_type": "markdown",
   "id": "f4c75485-65b6-46e0-b603-c6774bbd7f49",
   "metadata": {},
   "source": [
    "#### Per guide"
   ]
  },
  {
   "cell_type": "code",
   "execution_count": null,
   "id": "ce1cd2aa-b55b-4651-9211-81dfe8939ac0",
   "metadata": {
    "tags": []
   },
   "outputs": [],
   "source": [
    "df8 = score_guides(\n",
    "    guides=df5,\n",
    "    scores=df7,\n",
    "    not_be=not_be,\n",
    ")\n",
    "df8.head(1)"
   ]
  },
  {
   "cell_type": "code",
   "execution_count": null,
   "id": "633bb76f-aaff-4f6e-b92c-77b857a8dded",
   "metadata": {
    "tags": []
   },
   "outputs": [],
   "source": [
    "to_table(\n",
    "    df8,\n",
    "    # f'{output_dir_path}/04_offtargets.{output_ext}'\n",
    "    output_paths[\"offtargets\"],\n",
    ")"
   ]
  },
  {
   "cell_type": "markdown",
   "id": "a4b7734f-9d38-4c87-a5b2-f587f8ff8e52",
   "metadata": {
    "tags": []
   },
   "source": [
    "## Outputs"
   ]
  },
  {
   "cell_type": "code",
   "execution_count": null,
   "id": "d3293392-8b0c-4421-8f01-dbb0739c89b5",
   "metadata": {},
   "outputs": [],
   "source": [
    "if dbug:\n",
    "    print(df1.columns.tolist())\n",
    "    print(df5.columns.tolist())\n",
    "    print(df8.columns.tolist())"
   ]
  },
  {
   "cell_type": "code",
   "execution_count": null,
   "id": "183f3f5a-a3cc-44d9-b1a8-7f24e502a689",
   "metadata": {},
   "outputs": [],
   "source": [
    "%run ../beditor/lib/io.py\n",
    "# from beditor.lib.io import to_output\n",
    "df9 = to_output(\n",
    "    inputs=df1,  ## gene, protein etc\n",
    "    guides=df5,\n",
    "    scores=df8,\n",
    ")\n",
    "df9.head(1)"
   ]
  },
  {
   "cell_type": "code",
   "execution_count": null,
   "id": "068d1064-cf92-42c0-ac02-efa95a434c04",
   "metadata": {
    "tags": []
   },
   "outputs": [],
   "source": [
    "to_table(\n",
    "    df9,\n",
    "    # f'{output_dir_path}/05_full.{output_ext}'\n",
    "    output_paths[\"output_full\"],\n",
    ")"
   ]
  },
  {
   "cell_type": "markdown",
   "id": "ccd62cf5-4eb2-4bb4-9f71-2ba25b97b1ac",
   "metadata": {},
   "source": [
    "### Stats"
   ]
  },
  {
   "cell_type": "code",
   "execution_count": null,
   "id": "df5106a5-555a-453a-b4cb-204aba5b741f",
   "metadata": {
    "tags": []
   },
   "outputs": [],
   "source": [
    "sgs_count = len(\n",
    "    df9.loc[\n",
    "        :, [\"target location\"] + ([\"mutation\"] if mutation_type == \"point\" else [])\n",
    "    ].drop_duplicates()\n",
    ")\n",
    "logging.info(f\"sgRNAs are designed for {sgs_count}/{len(df1)} input mutations\")"
   ]
  },
  {
   "cell_type": "markdown",
   "id": "86a19578-ffa7-41fc-8a66-f16a5acbfec7",
   "metadata": {},
   "source": [
    "### Reduce the output"
   ]
  },
  {
   "cell_type": "code",
   "execution_count": null,
   "id": "f725865c-7b48-4e24-9f9d-ca2da6ba9e1b",
   "metadata": {
    "tags": []
   },
   "outputs": [],
   "source": [
    "cols_output = [\n",
    "    \"chrom\",\n",
    "    \"start\",\n",
    "    \"end\",\n",
    "    \"guide sequence\",\n",
    "    \"guide+PAM sequence\",\n",
    "    \"guide strand\",\n",
    "    \"strand\",\n",
    "    \"score\",\n",
    "    \"alignments\",\n",
    "    \"polyT stretch length\",\n",
    "]\n",
    "if len(set(df0.columns.tolist()) & set(cols_output)) == 0:\n",
    "    df9_ = df9.loc[:, df0.columns.tolist() + cols_output]\n",
    "else:\n",
    "    df9_ = df9.loc[\n",
    "        :, df0.columns.tolist() + list(set(cols_output) - set(df0.columns.tolist()))\n",
    "    ]\n",
    "df9_.head(1)"
   ]
  },
  {
   "cell_type": "code",
   "execution_count": null,
   "id": "0eea42f1-5f51-4e5b-955d-e2ccfdf245ab",
   "metadata": {
    "tags": []
   },
   "outputs": [],
   "source": [
    "to_table(df9_, output_path)"
   ]
  },
  {
   "cell_type": "code",
   "execution_count": null,
   "id": "7abb012b-e63a-4663-8e7e-673ba3868248",
   "metadata": {
    "tags": []
   },
   "outputs": [],
   "source": [
    "## display dataframe #todo debug\n",
    "# (df9_\n",
    "# # .set_index(df0.columns.tolist())\n",
    "# .sort_values(['score'],ascending=[False])\n",
    "# .style\n",
    "#     .set_properties(subset=['guide sequence','guide+PAM sequence'],**{'font-family': 'Monospace'})\n",
    "#     .format(subset=['score'],precision=2)\n",
    "#     .background_gradient(subset=['score'],cmap='Reds_r')\n",
    "#     # .hide(axis=\"index\",) # error: AttributeError: 'Styler' object has no attribute 'hide'\n",
    "# )\n",
    "# df9_.head()"
   ]
  },
  {
   "cell_type": "markdown",
   "id": "0383d7e3-594d-44b4-a617-77ab9ffccec3",
   "metadata": {},
   "source": [
    "Location coordinates\n",
    "\n",
    "1-based (#tmp because of pyensembl)\n",
    "\n",
    "    \"sequence target codon\"\n",
    "    \"target edited location\"\n",
    "    \"start\", \"end\"\n",
    "    \"start PAM\", \"end PAM\"\n",
    "    \n",
    "0-based (#todo rename locus)\n",
    "\n",
    "    \"guide location\"\n",
    "    \"window locus\"\n",
    "    \"aligned location\""
   ]
  },
  {
   "cell_type": "markdown",
   "id": "a7692568-1255-4ad1-9bd2-750f229b7d99",
   "metadata": {},
   "source": [
    "## Visualizations"
   ]
  },
  {
   "cell_type": "markdown",
   "id": "908b9d08-bd7c-41c8-bb21-b46ce383a1c8",
   "metadata": {},
   "source": [
    "## Library stats"
   ]
  },
  {
   "cell_type": "code",
   "execution_count": null,
   "id": "e85f0b11-4282-4a73-a41b-ef6618320cb1",
   "metadata": {
    "tags": []
   },
   "outputs": [],
   "source": [
    "from beditor.lib.viz import get_plot_inputs, plot_library_stats\n",
    "\n",
    "axs = plot_library_stats(\n",
    "    dfs=get_plot_inputs(df9),\n",
    "    not_be=not_be,\n",
    ")"
   ]
  },
  {
   "cell_type": "markdown",
   "id": "a11a1af8-f798-4e07-9f82-75148b8349e8",
   "metadata": {
    "tags": []
   },
   "source": [
    "### Integrative Genomics Viewer (IGV)"
   ]
  },
  {
   "cell_type": "code",
   "execution_count": null,
   "id": "31d03974-67e6-4a99-993a-9751d750d63e",
   "metadata": {},
   "outputs": [],
   "source": [
    "from beditor.lib.viz import to_igv\n",
    "\n",
    "igv_session_path = to_igv(\n",
    "    # cfg=None,\n",
    "    gtf_path=gtf_path,\n",
    "    genome_path=genome_path,\n",
    "    output_dir_path=output_dir_path,\n",
    "    # threads=threads,\n",
    "    output_ext=output_ext,\n",
    "    force=force,\n",
    ")\n",
    "print(igv_session_path)"
   ]
  },
  {
   "cell_type": "code",
   "execution_count": null,
   "id": "8658f071-3eab-43a9-92a1-59c81360b967",
   "metadata": {
    "tags": []
   },
   "outputs": [],
   "source": [
    "import igv_notebook\n",
    "\n",
    "igv_notebook.init()\n",
    "b = igv_notebook.Browser({}).load_session(path=igv_session_path)"
   ]
  }
 ],
 "metadata": {
  "kernelspec": {
   "display_name": "beditor",
   "language": "python",
   "name": "beditor"
  },
  "language_info": {
   "codemirror_mode": {
    "name": "ipython",
    "version": 3
   },
   "file_extension": ".py",
   "mimetype": "text/x-python",
   "name": "python",
   "nbconvert_exporter": "python",
   "pygments_lexer": "ipython3",
   "version": "3.9.18"
  }
 },
 "nbformat": 4,
 "nbformat_minor": 5
}
