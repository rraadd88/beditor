{
 "cells": [
  {
   "cell_type": "code",
   "execution_count": null,
   "id": "4d9e1bc0-b064-48a3-89e9-d96efb894e19",
   "metadata": {
    "tags": []
   },
   "outputs": [],
   "source": [
    "## imported libraries\n",
    "from pathlib import Path\n",
    "import sys\n",
    "import numpy as np\n",
    "import pandas as pd\n",
    "import matplotlib.pyplot as plt\n",
    "import mercury as mr\n",
    "from roux.lib.io import read_dict,to_dict,read_table,to_table\n",
    "from roux.lib.sys import get_datetime\n",
    "\n",
    "from beditor.lib.utils import cols_muts\n",
    "from beditor.lib.utils import get_src_path\n",
    "src_path=get_src_path()"
   ]
  },
  {
   "cell_type": "code",
   "execution_count": null,
   "id": "ecd4be2d-89be-4ae2-9222-933cfbc178ed",
   "metadata": {
    "tags": [
     "parameters"
    ]
   },
   "outputs": [],
   "source": [
    "## parameters for testing using papermill\n",
    "config_path=None\n",
    "new_run=True\n",
    "# dbug=True\n",
    "dbug=False\n",
    "not_be=True\n",
    "beditor_score_min=0.8\n",
    "\n",
    "palette={\n",
    "    # True:'r',\n",
    "    True:'#2684FF',\n",
    "    False:'gray',\n",
    "    'sg':'#2684FF',\n",
    "    'none':'lightgray',\n",
    "}\n",
    "figsize=[10,8]\n",
    "\n",
    "force=False"
   ]
  },
  {
   "cell_type": "code",
   "execution_count": null,
   "id": "c1a11226-a29f-4b95-8d09-2d61d1dc9d4b",
   "metadata": {},
   "outputs": [],
   "source": [
    "## inferred parameters\n",
    "new_run=config_path is None"
   ]
  },
  {
   "cell_type": "code",
   "execution_count": null,
   "id": "1ccdb7d8-19be-492e-a3f6-aa9984a1e7b5",
   "metadata": {
    "tags": []
   },
   "outputs": [],
   "source": [
    "# control app with App class\n",
    "app = mr.App(\n",
    "    title=\"beditor\", \n",
    "    # description=\"Showcase of Mercury Widgets\",\n",
    "    show_code = dbug,\n",
    "    # show_code = True,\n",
    "    show_prompt=dbug,\n",
    "    # stop_on_error=True,\n",
    "    # continuous_update=not dbug,\n",
    "    continuous_update=False,\n",
    ")"
   ]
  },
  {
   "cell_type": "code",
   "execution_count": null,
   "id": "281cb54f-0bea-49ac-a5d8-85d9edd11e66",
   "metadata": {
    "tags": []
   },
   "outputs": [],
   "source": [
    "inew_run = mr.Checkbox(value=new_run, label=\"New run\")\n",
    "# read checkbox value\n",
    "new_run=inew_run.value"
   ]
  },
  {
   "cell_type": "code",
   "execution_count": 90,
   "id": "02340f24-2c80-45c4-9133-7e93474ede89",
   "metadata": {
    "tags": []
   },
   "outputs": [
    {
     "data": {
      "application/mercury+json": "{\n    \"widget\": \"File\",\n    \"max_file_size\": \"10MB\",\n    \"label\": \"Load config\",\n    \"model_id\": \"289c06e61d174703901407004f7ce79b\",\n    \"code_uid\": \"File.0.40.18.7-randa151c8e4\",\n    \"disabled\": false,\n    \"hidden\": false\n}",
      "application/vnd.jupyter.widget-view+json": {
       "model_id": "289c06e61d174703901407004f7ce79b",
       "version_major": 2,
       "version_minor": 0
      },
      "text/plain": [
       "mercury.File"
      ]
     },
     "metadata": {},
     "output_type": "display_data"
    },
    {
     "name": "stdout",
     "output_type": "stream",
     "text": [
      "{'run': {'dbug': False, 'force': True, 'genome_path': 'inputs/dna.fa', 'gtf_path': 'inputs/ann.gtf', 'igv_path_prefix': None, 'input_path': 'inputs/mutations/protein//points.tsv', 'method': 'Cas12a-BE', 'not_be': False, 'output_path': 'outputs/protein/points//output.tsv', 'protein_path': 'inputs/Protein.fa', 'release': None, 'search_window': None, 'species_name': None, 'test': False, 'threads': 10, 'transcript_path': 'inputs/RNA.fa', 'verbose': False, 'wd_path': '/mnt/d/Documents/code/beditor/examples'}}\n"
     ]
    }
   ],
   "source": [
    "# open existing using the output directory    \n",
    "# dv=\"path/to/parameters.yaml\"\n",
    "# iconfig_path = mr.Text(value=dv, label=\"Load parameters\", rows=1)\n",
    "# config_path=iconfig_path.value\n",
    "# if config_path==dv:\n",
    "#     sys.exit(0)\n",
    "iconfig_file = mr.File(label=\"Load config\", max_file_size=\"10MB\",hidden=new_run)\n",
    "if not new_run:\n",
    "    if config_path is None:\n",
    "        config_path=iconfig_file.filepath\n",
    "    if config_path is None:\n",
    "        mr.Stop()\n",
    "    else:\n",
    "        if dbug:\n",
    "            print(config_path,Path(config_path).exists())\n",
    "        if Path(config_path).exists():\n",
    "            cfg=read_dict(config_path,fmt='yaml')\n",
    "            if dbug:\n",
    "                print(cfg)\n",
    "        else:\n",
    "            print(\"Config not loaded\")\n",
    "            mr.Stop()\n",
    "else:\n",
    "    parameters={}"
   ]
  },
  {
   "cell_type": "code",
   "execution_count": 91,
   "id": "18777913-e123-481c-87ec-6f46f589d46c",
   "metadata": {
    "tags": []
   },
   "outputs": [],
   "source": [
    "## workflow related widgets"
   ]
  },
  {
   "cell_type": "code",
   "execution_count": null,
   "id": "31eee72f-7679-4e15-ba2c-57f94ede8621",
   "metadata": {},
   "outputs": [],
   "source": [
    "_ = mr.Note(text='<a href=\"https://github.com/rraadd88/beditor?tab=readme-ov-file#gui-mode\" target=\"_blank\">ⓘ</a>')"
   ]
  },
  {
   "cell_type": "code",
   "execution_count": null,
   "id": "a82db55c-2cd8-4dc8-9d5b-f32ac4234970",
   "metadata": {
    "tags": []
   },
   "outputs": [],
   "source": [
    "## genome\n",
    "if new_run:\n",
    "    from pyensembl import species\n",
    "    species_names=[f\"{k.capitalize()} ({getattr(species,k).latin_name.capitalize().replace('_',' ')})\" for k in dir(species) if isinstance(getattr(species,k),species.Species)]\n",
    "    if dbug:\n",
    "        print(species_names)"
   ]
  },
  {
   "cell_type": "code",
   "execution_count": null,
   "id": "6d9b1213-621c-4f77-83a9-770ddf751dba",
   "metadata": {
    "tags": []
   },
   "outputs": [],
   "source": [
    "if new_run:\n",
    "    ispecies = mr.Select(\n",
    "        label=\"Species\",\n",
    "        # value=[s for s in species_names if 'human' in s.lower()][0],\n",
    "        value='',\n",
    "        choices=['']+species_names,\n",
    "        hidden=not new_run,\n",
    "        )"
   ]
  },
  {
   "cell_type": "code",
   "execution_count": null,
   "id": "8c99fdd8-403f-42a8-b451-62e3860b6c85",
   "metadata": {
    "tags": []
   },
   "outputs": [],
   "source": [
    "if new_run:\n",
    "    if ispecies.value=='':\n",
    "        mr.Stop()"
   ]
  },
  {
   "cell_type": "code",
   "execution_count": null,
   "id": "c517db6a-8ede-495c-9e42-ecc01658e335",
   "metadata": {
    "tags": []
   },
   "outputs": [],
   "source": [
    "if new_run:\n",
    "    # access selected values\n",
    "    parameters['species']=ispecies.value.split(' (')[0].lower()\n",
    "    cfg_species=getattr(species,parameters['species'])\n",
    "    reference_assemblies=list(cfg_species.reference_assemblies.keys())[::-1]\n",
    "    reference_assemblies=list(set(reference_assemblies) - set(['GRCh37','NCBI36']))\n",
    "    if dbug:\n",
    "        print(reference_assemblies)"
   ]
  },
  {
   "cell_type": "code",
   "execution_count": null,
   "id": "e59c9295-f624-4851-a743-8357fda540c2",
   "metadata": {
    "tags": []
   },
   "outputs": [],
   "source": [
    "if new_run:\n",
    "    iassembly = mr.Select(\n",
    "        label=\"Genome assembly\",\n",
    "        value=reference_assemblies[0],\n",
    "        choices=reference_assemblies,\n",
    "        hidden=not new_run,\n",
    "        )"
   ]
  },
  {
   "cell_type": "code",
   "execution_count": null,
   "id": "6050d4ac-eff3-4069-9a8c-bd2a3abe95c7",
   "metadata": {
    "tags": []
   },
   "outputs": [],
   "source": [
    "if new_run:\n",
    "    assembly=iassembly.value\n",
    "    releases=cfg_species.reference_assemblies[assembly]\n",
    "    releases=list(map(str,list(range(releases[0],releases[1]+1,1))))[::-1]\n",
    "    if dbug:\n",
    "        print(releases)"
   ]
  },
  {
   "cell_type": "code",
   "execution_count": null,
   "id": "e1fa0a91-f22f-4ed3-bae1-ef86a2bbb522",
   "metadata": {
    "tags": []
   },
   "outputs": [],
   "source": [
    "if new_run:\n",
    "    irelease = mr.Select(\n",
    "        label=\"Ensembl release\",\n",
    "        value=releases[0],\n",
    "        choices=releases,\n",
    "        hidden=not new_run,\n",
    "        )\n",
    "    parameters['ensembl_release']=irelease.value"
   ]
  },
  {
   "cell_type": "code",
   "execution_count": null,
   "id": "50c64633-32bc-4e2f-96a7-0f1b19a68e2d",
   "metadata": {
    "tags": []
   },
   "outputs": [],
   "source": [
    "im_file = mr.File(\n",
    "    label=\"Load mutations\", max_file_size=\"100MB\",\n",
    "    disabled=not new_run,\n",
    "    hidden=not new_run,\n",
    "    )\n",
    "if new_run:\n",
    "    parameters['mutations_path']=im_file.filepath\n",
    "    if parameters['mutations_path'] is None:\n",
    "        mr.Stop()"
   ]
  },
  {
   "cell_type": "code",
   "execution_count": null,
   "id": "528a8c1a-e371-4121-bfb1-8dceb371aab4",
   "metadata": {
    "tags": []
   },
   "outputs": [],
   "source": [
    "if new_run:\n",
    "    ibe = mr.Checkbox(value=not_be, label=\"Base editing\")\n",
    "    # read checkbox value\n",
    "    parameters['not_be']=ibe.value"
   ]
  },
  {
   "cell_type": "code",
   "execution_count": null,
   "id": "ea5789b2-7687-4d2e-b7e5-c83191adcec1",
   "metadata": {
    "tags": []
   },
   "outputs": [],
   "source": [
    "editors=sorted(read_table(f\"{src_path}/data/methods.tsv\")['method'].unique().tolist())"
   ]
  },
  {
   "cell_type": "code",
   "execution_count": null,
   "id": "3ea44f00-866d-4a02-8e55-412ee70d90b0",
   "metadata": {
    "tags": []
   },
   "outputs": [],
   "source": [
    "ied = mr.Select(\n",
    "    label=\"Editor\",\n",
    "    value='',\n",
    "    choices=['']+editors,\n",
    "    hidden=not new_run,\n",
    "    )"
   ]
  },
  {
   "cell_type": "code",
   "execution_count": null,
   "id": "47d68fa3-7c8a-4fc2-b4cd-01ba5050bc8a",
   "metadata": {
    "tags": []
   },
   "outputs": [],
   "source": [
    "if new_run:\n",
    "    parameters['editor']=ied.value\n",
    "    if parameters['editor']=='':\n",
    "        mr.Stop()"
   ]
  },
  {
   "cell_type": "code",
   "execution_count": null,
   "id": "99c1cb60-aed7-46e2-90d9-0af02e7c4dff",
   "metadata": {
    "tags": []
   },
   "outputs": [],
   "source": [
    "if new_run:\n",
    "    from roux.lib.sys import get_datetime\n",
    "    # output folder.\n",
    "    # ioutput_dir_path = mr.OutputDir()\n",
    "    # output_dir_path=ioutput_dir_path.path\n",
    "    \n",
    "    parameters['output_dir_path']=f\".beditor_gui_sessions/{get_datetime()}/\"\n",
    "    if dbug:\n",
    "        print(parameters['output_dir_path'])"
   ]
  },
  {
   "cell_type": "code",
   "execution_count": null,
   "id": "08bd39b1-4f4e-4c3f-9756-d02b688a78cd",
   "metadata": {
    "tags": []
   },
   "outputs": [],
   "source": [
    "## run\n",
    "if new_run:\n",
    "    # to_dict(parameters,f\"{output_dir_path}/inputs.yaml\")\n",
    "    try:\n",
    "        from beditor.run import cli\n",
    "        cli(\n",
    "            **parameters,\n",
    "            threads = 1,\n",
    "            verbose=\"CRITICAL\",\n",
    "            dbug = dbug,\n",
    "            skip = ['Visual'],\n",
    "        )\n",
    "    except:\n",
    "        print(f\"Check the temporaty outputs stored at: {parameters['output_dir_path']}\")\n",
    "        mr.Stop()\n",
    "    cfg=read_dict(f\"{parameters['output_dir_path']}/config.yaml\",fmt='yaml')\n",
    "    del parameters\n",
    "else:\n",
    "    if not 'wd_path' in cfg['run']:\n",
    "        print(\"Load the the config from the output directory.\")\n",
    "        mr.Stop()\n",
    "        # raise mr.StopExecution(\"Load the the config from the output directory.\")\n",
    "not_be=cfg['run']['not_be']\n",
    "wd_path=cfg['run']['wd_path']\n",
    "if dbug:\n",
    "    print(f\"wd_path='{cfg['run']['wd_path']}'\")\n",
    "output_dir_path=Path(cfg['run']['output_path']).parent\n",
    "if dbug:\n",
    "    print(f\"output_dir_path='{output_dir_path}'\")"
   ]
  },
  {
   "cell_type": "code",
   "execution_count": null,
   "id": "9fe78acd-4341-4b80-a9d4-e8408e97dcaa",
   "metadata": {
    "tags": []
   },
   "outputs": [],
   "source": [
    "## Designed sgRNAs\n",
    "# wd_path='/mnt/d/Documents/code/beditor/examples'\n",
    "# output_dir_path='outputs/protein/regions'"
   ]
  },
  {
   "cell_type": "code",
   "execution_count": null,
   "id": "9c935731-ac30-4deb-b225-16700bdc0d39",
   "metadata": {
    "tags": []
   },
   "outputs": [],
   "source": [
    "if not wd_path is None:\n",
    "    import os \n",
    "    os.chdir(wd_path)"
   ]
  },
  {
   "cell_type": "code",
   "execution_count": null,
   "id": "297f2439-33ce-4137-b380-d1c884fcf87c",
   "metadata": {
    "tags": []
   },
   "outputs": [],
   "source": [
    "## outputs\n",
    "output_paths=read_dict(f\"{output_dir_path}/output_paths.yaml\")\n",
    "# cfg=read_dict(f\"{output_dir_path}/config.yaml\")\n",
    "cfg_method=read_dict(Path(output_paths['output']).parent.as_posix()+'/00_inputs/pam.yaml')\n",
    "if dbug:\n",
    "    print(cfg_method)"
   ]
  },
  {
   "cell_type": "markdown",
   "id": "ce19daf3-4de4-41e0-b59e-9a7e2decd346",
   "metadata": {},
   "source": [
    "## **Loaded config**"
   ]
  },
  {
   "cell_type": "code",
   "execution_count": null,
   "id": "0554adab-601d-4690-b4ed-5615c4549804",
   "metadata": {},
   "outputs": [],
   "source": [
    "pd.DataFrame(cfg).dropna().T.sort_index(axis=1).set_index(['method','input_path'])"
   ]
  },
  {
   "cell_type": "code",
   "execution_count": null,
   "id": "530799d0-b9c7-4f91-b656-46dfc02c2db9",
   "metadata": {
    "tags": []
   },
   "outputs": [],
   "source": [
    "df0=read_table(output_paths['input_mutations'])\n",
    "if dbug:\n",
    "    print(df0.head(1))"
   ]
  },
  {
   "cell_type": "code",
   "execution_count": null,
   "id": "1ae46f5e-b597-4685-8fb9-bb2109e47a5b",
   "metadata": {
    "tags": []
   },
   "outputs": [],
   "source": [
    "df1=read_table(output_paths['output_full']).rd.assert_no_dups()\n",
    "if dbug:\n",
    "    print(df1.head(1))"
   ]
  },
  {
   "cell_type": "code",
   "execution_count": null,
   "id": "65f7993d-f3ab-48ae-906a-6d3365c4b9e7",
   "metadata": {
    "tags": []
   },
   "outputs": [],
   "source": [
    "stats=dict(\n",
    "    input_mutations_unique=len(df0.loc[:,cols_muts].drop_duplicates()),\n",
    "    input_mutations_targeted=len(df1.loc[:,cols_muts].drop_duplicates()),\n",
    "    sgs_designed=df1['guide sequence'].nunique(),\n",
    ")\n",
    "if 'protein id' in df0:\n",
    "    stats['input_proteins_unique']=df0['protein id'].nunique()\n",
    "    stats['input_proteins_targeted']=df1['protein id'].nunique()\n",
    "if 'gene id' in df0:\n",
    "    stats['input_genes_unique']=df0['gene id'].nunique()\n",
    "    stats['input_genes_targeted']=df1['gene id'].nunique()\n",
    "# mr.Md(f\"{df1['guide sequence'].nunique()} sgRNAs are designed for {sgs_count}/{len(df0)} input mutations\")"
   ]
  },
  {
   "cell_type": "code",
   "execution_count": null,
   "id": "9ec6a5fd-d9a8-4237-842e-96abcdf9dfa9",
   "metadata": {
    "tags": []
   },
   "outputs": [],
   "source": [
    "# #### By offtarget aligned genes\n",
    "if not 'aligned genes count' in df1:\n",
    "    df2=df1.assign(**{\n",
    "        'aligned genes count':lambda df: df['aligned genes'].apply(lambda x: x.count(';')+1),\n",
    "        'polyT stretch length': lambda df: df['polyT stretch length'].fillna(0),\n",
    "    })\n",
    "else:\n",
    "    df2=df1.copy()\n",
    "if dbug:\n",
    "    print(df2.head(1))"
   ]
  },
  {
   "cell_type": "code",
   "execution_count": null,
   "id": "65177a86-8a2d-49dd-86fb-5350926111b2",
   "metadata": {
    "tags": []
   },
   "outputs": [],
   "source": [
    "# more boxes in one row\n",
    "mr.NumberBox(\n",
    "    ([\n",
    "        mr.NumberBox(data=stats['sgs_designed'], title=\"sgRNAs designed\"),\n",
    "        mr.NumberBox(data=f\"{stats['input_mutations_targeted']}/{stats['input_mutations_unique']}\", title=\"loci\"),\n",
    "    ]\n",
    "    +[\n",
    "        mr.NumberBox(data=f\"{stats['input_genes_targeted']}/{stats['input_genes_unique']}\", title=\"genes\"),\n",
    "    ] if 'input_genes_unique' in stats else []    \n",
    "    )\n",
    ")"
   ]
  },
  {
   "cell_type": "markdown",
   "id": "9b5ca5e3-8377-4cb9-af13-c417e686f7f9",
   "metadata": {},
   "source": [
    "### **Scores of sgRNAs**"
   ]
  },
  {
   "cell_type": "code",
   "execution_count": null,
   "id": "2331ad2d-2b56-42b3-a957-99ee6aed5bf2",
   "metadata": {
    "tags": []
   },
   "outputs": [],
   "source": [
    "_ = mr.Note(text=\"#### Filtering\")"
   ]
  },
  {
   "cell_type": "code",
   "execution_count": null,
   "id": "5bf8c3e8-301c-4de4-a04b-7c23b1455cdb",
   "metadata": {},
   "outputs": [],
   "source": [
    "from beditor.lib.viz import get_plot_inputs\n",
    "dfs=get_plot_inputs(\n",
    "    df2,\n",
    "    )"
   ]
  },
  {
   "cell_type": "code",
   "execution_count": null,
   "id": "037472b0-d150-4c31-8cbc-9f9c1b155b95",
   "metadata": {},
   "outputs": [],
   "source": [
    "## defaults\n",
    "cutoffs={\n",
    "    'Off-target alignments':\n",
    "        [\n",
    "            dfs['Off-target alignments'].index.min(),\n",
    "            dfs['Off-target alignments'].index.max(),\n",
    "        ],\n",
    "    \"Genes targeted by sgRNA\":\n",
    "        [\n",
    "            dfs['Genes targeted by sgRNA'].index.min(),\n",
    "            dfs['Genes targeted by sgRNA'].index.max(),\n",
    "        ],\n",
    "    \"PolyT stretch\":\n",
    "        [\n",
    "           dfs['PolyT stretch'].index.min(), \n",
    "           dfs['PolyT stretch'].index.max(), \n",
    "        ],\n",
    "    \"beditor score\":\n",
    "        [\n",
    "           dfs['beditor score'].min(), \n",
    "           dfs['beditor score'].max(),             \n",
    "        ],\n",
    "        }\n",
    "# cutoffs"
   ]
  },
  {
   "cell_type": "code",
   "execution_count": null,
   "id": "12db51e3-3e64-413e-95d5-4a02331ecc33",
   "metadata": {},
   "outputs": [],
   "source": [
    "k='beditor score'\n",
    "inputs = mr.Range(\n",
    "    value=[i*100 for i in cutoffs[k]],\n",
    "    # min=cutoffs[k][0]*100,\n",
    "    # max=cutoffs[k][1]*100,\n",
    "    min=0,\n",
    "    max=100,\n",
    "    label=k+('*' if not_be else ''),\n",
    "    step=1,\n",
    "    hidden=len(dfs[k])==0,\n",
    ")\n",
    "cutoffs[k]=[i/100 for i in inputs.value]"
   ]
  },
  {
   "cell_type": "code",
   "execution_count": null,
   "id": "d83b9541-eebe-4e2e-9c79-d30239edba3d",
   "metadata": {},
   "outputs": [],
   "source": [
    "k='Off-target alignments'\n",
    "inputs = mr.Range(\n",
    "    value=cutoffs[k],\n",
    "    min=cutoffs[k][0],\n",
    "    max=cutoffs[k][1],\n",
    "    label=k,\n",
    "    step=1,\n",
    "    hidden=len(dfs[k])==0,\n",
    ")\n",
    "cutoffs[k]=inputs.value"
   ]
  },
  {
   "cell_type": "code",
   "execution_count": null,
   "id": "6346db6d-2d53-4f93-9cd4-060c42b19ee8",
   "metadata": {},
   "outputs": [],
   "source": [
    "k='Genes targeted by sgRNA'\n",
    "inputs = mr.Range(\n",
    "    value=cutoffs[k],\n",
    "    min=cutoffs[k][0],\n",
    "    max=cutoffs[k][1],\n",
    "    label=k,\n",
    "    step=1,\n",
    "    hidden=len(dfs[k])==0,\n",
    ")\n",
    "cutoffs[k]=inputs.value"
   ]
  },
  {
   "cell_type": "code",
   "execution_count": null,
   "id": "2abd2702-779b-4662-b5ba-537f4de45291",
   "metadata": {},
   "outputs": [],
   "source": [
    "k='PolyT stretch'\n",
    "inputs = mr.Range(\n",
    "    value=cutoffs[k],\n",
    "    min=cutoffs[k][0],\n",
    "    max=cutoffs[k][1],\n",
    "    label=k,\n",
    "    step=1,\n",
    "    hidden=len(dfs[k])==0,\n",
    ")\n",
    "cutoffs[k]=inputs.value"
   ]
  },
  {
   "cell_type": "code",
   "execution_count": null,
   "id": "0641a228-5fb2-4530-806c-1302bc7f8bf7",
   "metadata": {},
   "outputs": [],
   "source": [
    "# cutoffs"
   ]
  },
  {
   "cell_type": "code",
   "execution_count": null,
   "id": "5b25e10b-171a-42a6-b344-5c33d74d2062",
   "metadata": {
    "tags": []
   },
   "outputs": [],
   "source": [
    "from beditor.lib.viz import plot_library_stats\n",
    "axs=plot_library_stats(\n",
    "    dfs,\n",
    "    not_be=not_be,\n",
    "    # cutoffs=cutoffs,\n",
    "    palette=palette,\n",
    "    figsize=[figsize[0],figsize[0]/4.5],\n",
    "    )"
   ]
  },
  {
   "cell_type": "code",
   "execution_count": null,
   "id": "d2213819-26cf-4707-bec1-7cbe411f42bb",
   "metadata": {},
   "outputs": [],
   "source": [
    "import mercury as mr\n",
    "# add checkbox\n",
    "ishow_more = mr.Checkbox(value=False, label=\"Show more\")\n",
    "show_more=ishow_more.value"
   ]
  },
  {
   "cell_type": "code",
   "execution_count": null,
   "id": "75f095c1-2400-40ab-aa5d-22f046fbb71b",
   "metadata": {
    "tags": []
   },
   "outputs": [],
   "source": [
    "if dbug or show_more:\n",
    "    mr.Md(\"### Scores of alignments\")\n",
    "    df_=read_table(output_paths['alignments_mapped'])\n",
    "    df_.head(1)\n",
    "\n",
    "    import matplotlib.pyplot as plt\n",
    "    fig,axs=plt.subplots(1,4,figsize=[figsize[0],figsize[0]/4],sharey=False)\n",
    "\n",
    "    df_=(df_\n",
    "    # .query(expr=\"`offtarget`==True\")\n",
    "    .assign(\n",
    "        **{\n",
    "            'mismatches count': lambda df: df['alignment'].apply(lambda x: x.count('.')),\n",
    "            'mismatches position': lambda df: df['alignment'].apply(lambda x: x.index('.') if '.' in x else np.nan),\n",
    "        }\n",
    "    )\n",
    "    )\n",
    "    for c,ax in zip(['mismatches count','mismatches position'],axs[:2]):\n",
    "        df1_=df_.dropna(subset=[c]).astype({c:int})\n",
    "        if len(df1_)==0:\n",
    "            continue\n",
    "        ax=df1_.boxplot(by=c,column='penalty mismatches',ax=ax)\n",
    "        ax.grid(False)\n",
    "        _=ax.set(\n",
    "            ylabel='penalty score',\n",
    "            title=None,\n",
    "            )\n",
    "        if c=='mismatches position':\n",
    "            ax.xaxis.set_major_locator(plt.MaxNLocator(5))\n",
    "            # ax.set(xticks=)\n",
    "    for c,ax in zip(['alignments','aligned genes count'],axs[2:]):\n",
    "        ax=df2.dropna(subset=[c]).astype({c:int}).query(f'`{c}`<=5').boxplot(by=c,column='score',ax=ax)\n",
    "        ax.grid(False)\n",
    "        _=ax.set(\n",
    "            ylabel='beditor score'+('*' if not_be else ''),\n",
    "            title=None,\n",
    "            )\n",
    "    plt.suptitle(None)\n",
    "    plt.tight_layout()"
   ]
  },
  {
   "cell_type": "markdown",
   "id": "1883a0d9-3e65-4fdc-bc59-ccde4bf2c0a8",
   "metadata": {},
   "source": [
    "## **After filtering**"
   ]
  },
  {
   "cell_type": "code",
   "execution_count": null,
   "id": "58b4f966-cfb0-4862-a10d-ec7f9dc5be2d",
   "metadata": {},
   "outputs": [],
   "source": [
    "# {'Off-target alignments': [0, 12],\n",
    "#  'Genes targeted by sgRNA': [1, 7],\n",
    "#  'PolyT stretch': [1, 9],\n",
    "#  'beditor score': [0.19, 0.7]}\n",
    "if dbug:\n",
    "    cutoffs"
   ]
  },
  {
   "cell_type": "code",
   "execution_count": null,
   "id": "b7fce1ea-dd71-49c3-935b-81beccb3f1be",
   "metadata": {
    "tags": []
   },
   "outputs": [],
   "source": [
    "stats['filtering']={}\n",
    "\n",
    "# for k in cutoffs:\n",
    "k='Off-target alignments'\n",
    "df3=(df2\n",
    "    .log('guide sequence')\n",
    "    .groupby(by='guide sequence')\n",
    "        .filter(lambda df: all((df['offtargets']>=cutoffs[k][0]) & (df['offtargets']<=cutoffs[k][1])))\n",
    "    .log('guide sequence')\n",
    ")\n",
    "stats['filtering']['offtarget']=dict(\n",
    "    sgs=df3['guide sequence'].nunique()\n",
    "    )\n",
    "\n",
    "k='Genes targeted by sgRNA'\n",
    "df3=(df3\n",
    "    .log('guide sequence')\n",
    "    .query(expr=f\"`aligned genes count` >= {cutoffs[k][0]} and `aligned genes count` <= {cutoffs[k][1]}\")\n",
    "    .log('guide sequence')\n",
    ")\n",
    "stats['filtering'][k]=dict(\n",
    "    sgs=df3['guide sequence'].nunique()\n",
    "    )\n",
    "\n",
    "k='PolyT stretch'\n",
    "df3=(df3\n",
    "    .log('guide sequence')\n",
    "    .query(expr=f\"`polyT stretch length` >= {cutoffs[k][0]} & `polyT stretch length` <= {cutoffs[k][1]}\")\n",
    "    .log('guide sequence')\n",
    ")\n",
    "stats['filtering'][k]=dict(\n",
    "    sgs=df3['guide sequence'].nunique()\n",
    "    )\n",
    "\n",
    "k='beditor score'\n",
    "df3=(df3\n",
    "    .log('guide sequence')\n",
    "    .query(expr=f\"`score` >= {cutoffs[k][0]} & `score` <= {cutoffs[k][1]}\")\n",
    "    .log('guide sequence')\n",
    ")\n",
    "stats['filtering'][k]=dict(\n",
    "    sgs=df3['guide sequence'].nunique()\n",
    "    )"
   ]
  },
  {
   "cell_type": "code",
   "execution_count": null,
   "id": "a8e96ac6-8064-4e51-b237-80ad3db21358",
   "metadata": {},
   "outputs": [],
   "source": [
    "if len(df3)==len(df2):\n",
    "    mr.Stop()"
   ]
  },
  {
   "cell_type": "code",
   "execution_count": null,
   "id": "9b2ab8b4-00b7-410d-9088-e4b8bad33bb4",
   "metadata": {
    "tags": []
   },
   "outputs": [],
   "source": [
    "cols_input=df3.columns.tolist()[:df3.columns.tolist().index('chrom')]#+['target position']"
   ]
  },
  {
   "cell_type": "code",
   "execution_count": null,
   "id": "0ed12dea-632b-4051-be51-d452fe88f5a7",
   "metadata": {
    "tags": []
   },
   "outputs": [],
   "source": [
    "df3=df3.assign(\n",
    "    **{\n",
    "        # 'target location':lambda df: df.apply(lambda x: f\"{x['chrom']}:{int(x['start'])}-{int(x['end'])}{x['strand']}\",axis=1),\n",
    "        'target locus':lambda df: df.apply(lambda x: ','.join([str(x[c]) for c in cols_input])+f\" ({x['target location']})\",axis=1),\n",
    "    }\n",
    "    )"
   ]
  },
  {
   "cell_type": "code",
   "execution_count": null,
   "id": "a66c0629-021f-4dae-87d3-34cec6f3d358",
   "metadata": {
    "tags": []
   },
   "outputs": [],
   "source": [
    "## error here\n",
    "sg_per_target_max=df3.groupby(cols_input+['target locus'])['guide sequence'].nunique().min()\n",
    "if sg_per_target_max>1:\n",
    "    isg_per_target_max= mr.Slider(\n",
    "        value=sg_per_target_max,\n",
    "        min=1,\n",
    "        max=sg_per_target_max,\n",
    "        label=\"Top sgRNAs per target\",\n",
    "        step=1,\n",
    "        # hidden=len(data.index.tolist())==0,\n",
    "    )\n",
    "    sg_per_target_max=isg_per_target_max.value"
   ]
  },
  {
   "cell_type": "code",
   "execution_count": null,
   "id": "e069feb5-d0d1-4a5f-b955-1fd5abfd270e",
   "metadata": {
    "tags": []
   },
   "outputs": [],
   "source": [
    "if sg_per_target_max!=sg_per_target_max:\n",
    "    df4=(df3\n",
    "        .groupby(cols_input+['target locus'],as_index=False)\n",
    "            .apply(lambda df: df.sort_values(['score','polyT stretch length','offtargets'],ascending=[False,True,True]).head(sg_per_target_max))\n",
    "        .reset_index(drop=True)\n",
    "    )\n",
    "else:\n",
    "    df4=df3.sort_values(['score','polyT stretch length','offtargets'],ascending=[False,True,True])\n",
    "if dbug:\n",
    "    print(df4.head(1))\n",
    "del df3"
   ]
  },
  {
   "cell_type": "code",
   "execution_count": null,
   "id": "99521236-fe17-4706-8e8c-9f27b5709a0d",
   "metadata": {
    "tags": []
   },
   "outputs": [],
   "source": [
    "stats['sgs_remained']=df4['guide sequence'].nunique()\n",
    "stats['input_mutations_remained']=len(df4.loc[:,cols_muts].drop_duplicates())\n",
    "if 'protein id' in df0:\n",
    "    stats['input_proteins_remained']=df4['protein id'].nunique()\n",
    "if 'gene id' in df0:\n",
    "    stats['input_genes_remained']=df4['gene id'].nunique()\n",
    "if dbug:\n",
    "    print(stats)"
   ]
  },
  {
   "cell_type": "code",
   "execution_count": null,
   "id": "bc1e4093-2007-46e8-a362-130831dc48ed",
   "metadata": {
    "tags": []
   },
   "outputs": [],
   "source": [
    "# more boxes in one row\n",
    "mr.NumberBox(\n",
    "    ([\n",
    "        mr.NumberBox(data=stats['sgs_remained'], title=\"sgRNAs remained\"),\n",
    "        mr.NumberBox(data=f\"{stats['input_mutations_remained']}/{stats['input_mutations_unique']}\", title=\"loci\"),\n",
    "    ]\n",
    "    +[\n",
    "        mr.NumberBox(data=f\"{stats['input_genes_remained']}/{stats['input_genes_unique']}\", title=\"genes\"),\n",
    "    ] if 'input_genes_unique' in stats else []    \n",
    "    )\n",
    ")"
   ]
  },
  {
   "cell_type": "code",
   "execution_count": null,
   "id": "f47460b8-48a7-4663-8712-513dc1aa8902",
   "metadata": {},
   "outputs": [],
   "source": [
    "axs=plot_library_stats(\n",
    "    dfs=get_plot_inputs(\n",
    "        df4,\n",
    "    ),\n",
    "    not_be=not_be,\n",
    "    cutoffs=cutoffs,\n",
    "    palette=palette,\n",
    "    figsize=[figsize[0],figsize[0]/4.5],\n",
    "    )"
   ]
  },
  {
   "cell_type": "markdown",
   "id": "a80c235e-7dc1-4cba-9d5e-677a6347ca73",
   "metadata": {},
   "source": [
    "### **Nucleotide composition**"
   ]
  },
  {
   "cell_type": "code",
   "execution_count": null,
   "id": "b424d316-b4fe-4ba3-886e-0d26b1781217",
   "metadata": {
    "tags": []
   },
   "outputs": [],
   "source": [
    "## nt composition\n",
    "from beditor.lib.viz import plot_ntcompos\n",
    "fig,ax=plt.subplots(figsize=[figsize[0],2])\n",
    "_=plot_ntcompos(\n",
    "    seqs=df4['guide+PAM sequence'].tolist(),\n",
    "    pam_pos=cfg_method['PAM position'],\n",
    "    pam_len=len(cfg_method['PAM']),\n",
    "    window=None if not_be else (cfg_method['distance of mutation from PAM: minimum'],cfg_method['distance of mutation from PAM: maximum']),\n",
    "    color_pam=palette['none'],\n",
    "    ax=ax,\n",
    "    )"
   ]
  },
  {
   "cell_type": "code",
   "execution_count": null,
   "id": "6bbdc9e1-3d6a-4a3f-b279-a70a72c462e3",
   "metadata": {},
   "outputs": [],
   "source": [
    "# get cytobands\n",
    "# else, get the bounds from the gtf"
   ]
  },
  {
   "cell_type": "code",
   "execution_count": null,
   "id": "87e0f307-3a9f-4109-af0d-b369be2c9066",
   "metadata": {
    "tags": []
   },
   "outputs": [],
   "source": [
    "gtf_path=cfg['run']['gtf_path']\n",
    "genome_path=cfg['run']['genome_path']"
   ]
  },
  {
   "cell_type": "code",
   "execution_count": null,
   "id": "a23f73cb-5674-44a0-a280-c8ff33141bd1",
   "metadata": {},
   "outputs": [],
   "source": [
    "if gtf_path is None:\n",
    "    # cfg_species=read_dict(Path(cfg['run']['output_path']).parent.as_posix()+'/00_inputs/species.yaml')\n",
    "    cfg_species=read_dict(output_paths['input_species'])\n",
    "    gtf_path=cfg_species['gtf_path']"
   ]
  },
  {
   "cell_type": "code",
   "execution_count": null,
   "id": "7b012101-3d10-4a96-9344-cd225d4cdaf0",
   "metadata": {
    "tags": []
   },
   "outputs": [],
   "source": [
    "if Path(gtf_path).name.startswith(\"Homo_sapiens.GRCh38\"):\n",
    "    #todo get the cytoBandIdeo file for other species\n",
    "    cytoBandIdeo_path=\"https://igv-genepattern-org.s3.amazonaws.com/genomes/hg38/cytoBandIdeo.txt.gz\"\n",
    "    cytobands_path=f\"{Path(output_paths['output']).parent.as_posix()}/06_viz/cytobands.tsv\"\n",
    "    if not Path(cytobands_path).exists():\n",
    "        from beditor.lib.io import read_cytobands\n",
    "        df01=read_cytobands(cytoBandIdeo_path)\n",
    "        to_table(df01,cytobands_path)\n",
    "    else:\n",
    "        df01=read_table(cytobands_path)\n",
    "else:\n",
    "    df01=(\n",
    "            pd.read_csv(genome_path+'.fai',sep='\\t',names=['chrom','length','byte index','bases per line','bytes per line'])\n",
    "            .loc[:,['chrom','length']]\n",
    "            .astype({'chrom':str,'length': int})\n",
    "            .assign(\n",
    "                start=1,\n",
    "                arm='arm',\n",
    "                end=lambda df: df['length']\n",
    "            )\n",
    "    )"
   ]
  },
  {
   "cell_type": "code",
   "execution_count": null,
   "id": "1438676f-cb97-43e0-b00f-7798d2e23bb6",
   "metadata": {
    "tags": []
   },
   "outputs": [],
   "source": [
    "col_chrom='chromosome'\n",
    "cytobands=(df01\n",
    "    .rename(\n",
    "        columns={\n",
    "            'chrom':col_chrom,\n",
    "            \"chrom arm\":f\"{col_chrom} arm\",\n",
    "        },\n",
    "        )\n",
    "    # .assign(\n",
    "    #     start = 1,\n",
    "    #     end   = lambda df: df['length'],\n",
    "    #     )\n",
    "    # .drop(['length'],axis=1)\n",
    "    )\n",
    "if dbug:\n",
    "    print(cytobands.head(1))"
   ]
  },
  {
   "cell_type": "markdown",
   "id": "3fe57f8d-2477-4fec-8def-ee626546d0c6",
   "metadata": {},
   "source": [
    "## **Inspect**"
   ]
  },
  {
   "cell_type": "code",
   "execution_count": null,
   "id": "1f4da3ab-ade9-4f7f-96ac-9c83500965f8",
   "metadata": {},
   "outputs": [],
   "source": [
    "_=mr.Note(\"### Inspect\")"
   ]
  },
  {
   "cell_type": "code",
   "execution_count": null,
   "id": "55289e81-b7aa-499d-a454-090ea53a795d",
   "metadata": {
    "tags": []
   },
   "outputs": [],
   "source": [
    "ishow_offtargets_only = mr.Checkbox(value=False, label=\"Show off-targets\")\n",
    "# read checkbox value\n",
    "show_offtargets_only=ishow_offtargets_only.value"
   ]
  },
  {
   "cell_type": "code",
   "execution_count": null,
   "id": "1c3b5126-febc-4bc0-b023-7d7fd23217ac",
   "metadata": {},
   "outputs": [],
   "source": [
    "ishow_coedits_only = mr.Checkbox(value=False, label=\"Show coedits\")\n",
    "# read checkbox value\n",
    "show_coedits_only=ishow_coedits_only.value"
   ]
  },
  {
   "cell_type": "code",
   "execution_count": null,
   "id": "08552239-2589-4b5f-8290-ce07f89aee8d",
   "metadata": {},
   "outputs": [],
   "source": [
    "## select the target"
   ]
  },
  {
   "cell_type": "code",
   "execution_count": null,
   "id": "97d9e7f6-44f7-4760-b58a-8617872e557b",
   "metadata": {
    "tags": []
   },
   "outputs": [],
   "source": [
    "#alignments_mapped\n",
    "df02=read_table(output_paths['alignments_mapped'])\n",
    "# ## back-compatibility\n",
    "if \"guide location\" in df02:\n",
    "    df02=df02.rename(\n",
    "        columns={\n",
    "        \"guide location\":\"guide locus\",\n",
    "        \"aligned location\":\"aligned locus\",\n",
    "        },\n",
    "    )\n",
    "if dbug:\n",
    "    print(df02.columns.tolist())\n",
    "df02=(df02\n",
    "    .assign(\n",
    "        **{\n",
    "            'sgRNA sequence (locus)': lambda df: df.apply(lambda x: f\"{x['guide sequence']} ({x['guide locus']})\",axis=1),\n",
    "        }\n",
    "    )\n",
    "    )\n",
    "\n",
    "if dbug:\n",
    "    print(df02.head(1))"
   ]
  },
  {
   "cell_type": "code",
   "execution_count": null,
   "id": "c2d3fe54-0adf-485d-884a-cf4edf04b4ad",
   "metadata": {
    "tags": []
   },
   "outputs": [],
   "source": [
    "expr_filter_targets=None\n",
    "if show_offtargets_only and not show_coedits_only:\n",
    "    expr_filter_targets=f\"`offtargets`!=0\"\n",
    "elif not show_offtargets_only and show_coedits_only:\n",
    "    expr_filter_targets=f\"`coedits`!=''\"\n",
    "elif show_offtargets_only and show_coedits_only:\n",
    "    expr_filter_targets=f\"`offtargets`!=0 and `coedits`!=''\"\n",
    "    \n",
    "if not expr_filter_targets is None:\n",
    "    loci=sorted(df4.log.query(expr=expr_filter_targets)['target locus'].unique().tolist())\n",
    "else:\n",
    "    loci=sorted(df4['target locus'].unique().tolist())\n",
    "if dbug:\n",
    "    print(len(loci))"
   ]
  },
  {
   "cell_type": "code",
   "execution_count": null,
   "id": "6908206b-38bd-4975-b1aa-b91d599293a8",
   "metadata": {},
   "outputs": [],
   "source": [
    "if len(loci)==0:\n",
    "    mr.Stop()"
   ]
  },
  {
   "cell_type": "code",
   "execution_count": null,
   "id": "64a433b8-03fc-4446-aaa6-9e32c657ec6f",
   "metadata": {
    "tags": []
   },
   "outputs": [],
   "source": [
    "iloc = mr.Select(\n",
    "    label=\"Target (\"+','.join([str(s) for s in cols_input])+\" (locus))\",\n",
    "    value=loci[0],\n",
    "    choices=loci,\n",
    "    )\n",
    "loc=iloc.value"
   ]
  },
  {
   "cell_type": "code",
   "execution_count": null,
   "id": "398c461e-b121-4b5d-9e44-789a7149a18b",
   "metadata": {
    "tags": []
   },
   "outputs": [],
   "source": [
    "if \"guide location\" in df4:\n",
    "    df4=df4.rename(\n",
    "        columns={\n",
    "        \"guide location\":\"guide locus\",\n",
    "        \"aligned location\":\"aligned locus\",\n",
    "        },\n",
    "    )\n",
    "df5=(df4\n",
    "    .query(f\"`target locus`=='{loc}'\")\n",
    "    .assign(\n",
    "        **{\n",
    "            'sgRNA sequence (locus)': lambda df: df.apply(lambda x: f\"{x['guide sequence']} ({x['guide locus']})\",axis=1),\n",
    "        },\n",
    "    )\n",
    "    )\n",
    "# if dbug:\n",
    "    # print(df5.T)\n",
    "# df5['offtargets'].value_counts()"
   ]
  },
  {
   "cell_type": "code",
   "execution_count": null,
   "id": "21b4af26-95f9-413a-a7ba-5b6962e03151",
   "metadata": {},
   "outputs": [],
   "source": [
    "if not expr_filter_targets is None:\n",
    "    df_=df5.log.query(expr=expr_filter_targets)\n",
    "else:\n",
    "    df_=df5.copy()"
   ]
  },
  {
   "cell_type": "code",
   "execution_count": null,
   "id": "567d3b5a-d6e2-45e4-98b8-de71a5a397d0",
   "metadata": {
    "tags": []
   },
   "outputs": [],
   "source": [
    "sgloci=df_['sgRNA sequence (locus)'].tolist()\n",
    "if len(sgloci)==0:\n",
    "    mr.Stop()\n",
    "isgloc = mr.Select(\n",
    "    label=\"sgRNA\",\n",
    "    value=sgloci[0],\n",
    "    choices=sgloci,\n",
    "    )\n",
    "sgloc=isgloc.value"
   ]
  },
  {
   "cell_type": "code",
   "execution_count": null,
   "id": "222ce9c8-b6d2-4a63-9111-5a6a43c4d281",
   "metadata": {
    "tags": []
   },
   "outputs": [],
   "source": [
    "if dbug:\n",
    "    print(sgloc)"
   ]
  },
  {
   "cell_type": "code",
   "execution_count": null,
   "id": "efb35f3e-f057-4e71-903e-c538aa4f2d9c",
   "metadata": {
    "tags": []
   },
   "outputs": [],
   "source": [
    "df_=df_.query(expr=f\"`sgRNA sequence (locus)`=='{sgloc}'\")\n",
    "# df_"
   ]
  },
  {
   "cell_type": "code",
   "execution_count": null,
   "id": "0f4766cd-c531-4008-85af-dd2f5d6c0c6a",
   "metadata": {},
   "outputs": [],
   "source": [
    "# ## visualise\n",
    "# dna feature viewer zoom on the target"
   ]
  },
  {
   "cell_type": "code",
   "execution_count": null,
   "id": "65015ad3-be03-4770-82e5-d37c67b97c96",
   "metadata": {
    "tags": []
   },
   "outputs": [],
   "source": [
    "aligns=df02.query(expr=f\"`sgRNA sequence (locus)`=='{sgloc}'\")"
   ]
  },
  {
   "cell_type": "code",
   "execution_count": null,
   "id": "030b57f7-509e-44ed-800b-a44e8574c1bd",
   "metadata": {
    "tags": []
   },
   "outputs": [],
   "source": [
    "mr.Md(f\"### Target: `{loc}`\")\n",
    "mr.Md(f\"### sgRNA: `{sgloc}`\")"
   ]
  },
  {
   "cell_type": "code",
   "execution_count": null,
   "id": "d8a2be30-8b72-4672-8737-b8b6df71ead0",
   "metadata": {},
   "outputs": [],
   "source": [
    "x=aligns.query(\"`offtarget`==False\")\n",
    "assert len(x)==1, f\"expected 1 row but found {len(x)}, possible duplicates\"\n",
    "x=x.iloc[0,:].to_dict()\n",
    "if dbug:\n",
    "    print(x)"
   ]
  },
  {
   "cell_type": "code",
   "execution_count": null,
   "id": "bf50c54d-0cea-4506-9443-892c480cb621",
   "metadata": {
    "tags": []
   },
   "outputs": [],
   "source": [
    "# %run ../beditor/lib/viz.py\n",
    "from beditor.lib.viz import plot_ontarget\n",
    "_=plot_ontarget(\n",
    "    guide_loc=x['guide locus'],\n",
    "    # guide_strand=aligns.query('`offtarget`==False').iloc[0,:]['aligned strand'],\n",
    "    pam_pos=cfg_method['PAM position'],\n",
    "    pam_len=len(cfg_method['PAM']),\n",
    "    guidepam_seq=x['guide+PAM sequence'],\n",
    "    window=None if not_be else (cfg_method['distance of mutation from PAM: minimum'],cfg_method['distance of mutation from PAM: maximum']),\n",
    "    verbose=dbug,\n",
    "    kws_sg=dict(color=palette['sg']),\n",
    "    )"
   ]
  },
  {
   "cell_type": "code",
   "execution_count": null,
   "id": "869cead5-0c58-4bc6-a2f7-59d413b47c61",
   "metadata": {},
   "outputs": [],
   "source": [
    "# chrov to show the offtargets\n",
    "# show the table for the input sgRNA"
   ]
  },
  {
   "cell_type": "code",
   "execution_count": null,
   "id": "c8907fa8-ea93-483a-b20c-d5324f86b68a",
   "metadata": {
    "tags": []
   },
   "outputs": [],
   "source": [
    "if dbug:\n",
    "    # print(df02.columns.tolist())\n",
    "    # print(data.dropna(axis=1).to_dict())\n",
    "    print(cytobands.to_dict())"
   ]
  },
  {
   "cell_type": "markdown",
   "id": "efaef52b-3478-4a5a-b3d1-f17d0319e537",
   "metadata": {},
   "source": [
    "#### **Genome-wide off-targets (if any)**"
   ]
  },
  {
   "cell_type": "code",
   "execution_count": null,
   "id": "b621d263-570a-41a2-8c16-a73e54d05819",
   "metadata": {
    "tags": []
   },
   "outputs": [],
   "source": [
    "data=(aligns\n",
    "    .assign(\n",
    "        chromosome=lambda df: df['guide locus'].apply(lambda x: x.split(':')[0]),\n",
    "        label=lambda df: df['offtarget'].map({False:'On',True:'Off'})\n",
    "    )\n",
    "    .loc[:,['chromosome','aligned start','label','score per alignment']]\n",
    "    .astype({\n",
    "        'chromosome':str,\n",
    "        \"aligned start\": int,\n",
    "        \"score per alignment\": float,\n",
    "    }\n",
    "    )\n",
    ")\n",
    "if dbug: \n",
    "    print(data)"
   ]
  },
  {
   "cell_type": "code",
   "execution_count": null,
   "id": "cf1f4133-4501-42c8-a9bd-dd3f2f86772a",
   "metadata": {},
   "outputs": [],
   "source": [
    "from chrov.viz.figure import plot_with_genome\n",
    "# %run ../../chrov/chrov/viz/figure.py\n",
    "coly='score per alignment'\n",
    "axs=plot_with_genome(\n",
    "    data=data.copy(),\n",
    "    cytobands=cytobands,\n",
    "    kind='stem',\n",
    "    colx='aligned start',\n",
    "    coly=coly,\n",
    "    col_label='label',\n",
    "    # coffy=0.9,\n",
    "    xkind='loci',\n",
    "    chrom_y=0,\n",
    "    arc=True,\n",
    "    va='center',\n",
    "    off=0.8,\n",
    "    offy=0.4,\n",
    "    figsize=[4,4],\n",
    "    kws_seaborn=dict(linefmt=palette['sg']),\n",
    "    kws_annot_chroms={},\n",
    "    kws_annot_labels=dict(loc='in'),\n",
    "    )\n",
    "axs['data'].set(ylim=[0,1])\n",
    "for t in axs['data'].get_children():\n",
    "    if isinstance(t,plt.Text):\n",
    "        if t.get_text()==coly:\n",
    "            # print(t.get_position())\n",
    "            t.set_text(f\"\\n\\n{t.get_text()}\")\n",
    "            t.set_x(0)\n",
    "            break"
   ]
  },
  {
   "cell_type": "markdown",
   "id": "da44945f-13d7-4e3c-85e1-13e3fcaa7e7f",
   "metadata": {},
   "source": [
    "#### **Alignments of the sgRNA**"
   ]
  },
  {
   "cell_type": "code",
   "execution_count": null,
   "id": "119dbcae-515c-4275-89dd-53eca50e27fa",
   "metadata": {
    "tags": []
   },
   "outputs": [],
   "source": [
    "# data.columns.tolist()\n",
    "aligns.loc[:,\n",
    "[\n",
    " # 'guide sequence',\n",
    " # 'guide locus',\n",
    " # 'aligned NM',\n",
    " # 'aligned X0',\n",
    " # 'aligned X1',\n",
    " # 'aligned XG',\n",
    " # 'aligned XM',\n",
    " # 'aligned XO',\n",
    " # 'aligned XT',\n",
    " # 'aligned chrom',\n",
    " # 'aligned end',\n",
    " # 'aligned mapq',\n",
    " 'offtarget',\n",
    " 'alignment is perfect',\n",
    " 'aligned locus',\n",
    " # 'aligned start',\n",
    " # 'aligned strand',\n",
    " # 'alignments',\n",
    " # 'aligned PAM start',\n",
    " # 'aligned PAM end',\n",
    " # 'aligned PAM',\n",
    " 'aligned PAM valid',\n",
    " 'aligned genes',\n",
    " # 'aligned genic',\n",
    " # 'alignment',\n",
    " # 'penalty mismatches',\n",
    " 'score per alignment',\n",
    " 'sgRNA sequence (locus)',\n",
    " 'aligned locus',\n",
    " 'aligned sequence',\n",
    " # 'chromosome',\n",
    " # 'label',\n",
    "    \n",
    "]\n",
    "        ].set_index('sgRNA sequence (locus)')"
   ]
  },
  {
   "cell_type": "code",
   "execution_count": null,
   "id": "0cc10902-e6f4-4734-a8ef-b79fea7971ca",
   "metadata": {
    "tags": []
   },
   "outputs": [],
   "source": [
    "#_ = mr.Note(text=\"#### Outputs\")\n",
    "isave = mr.Button(label=\"Save the filtered library\", style=\"primary\")\n",
    "save=isave.clicked\n",
    "if save:\n",
    " #   mr.Md(\"## Outputs\")\n",
    "    # mr.Md(f\"#### The QC filtered library is save at    : \"+to_table(df3,f\"{output_dir_path}/filtered/{get_datetime()}_qc.tsv\"))\n",
    "    # mr.Md(f\"#### The library with top sgRNAs is save at: \"+to_table(df4,f\"{output_dir_path}/filtered/{get_datetime()}_top.tsv\"))\n",
    "    mr.Md(f\"#### The filtered library is save at: \"+to_table(df4,f\"{output_dir_path}/filtered/{get_datetime()}.tsv\"))    "
   ]
  },
  {
   "cell_type": "code",
   "execution_count": null,
   "id": "43da8964-df08-4d9f-9928-5cc5bc2e322e",
   "metadata": {},
   "outputs": [],
   "source": [
    "if dbug:\n",
    "    open(f\"{output_dir_path}/gui.log\",'a').write('')"
   ]
  }
 ],
 "metadata": {
  "kernelspec": {
   "display_name": "beditor",
   "language": "python",
   "name": "beditor"
  },
  "language_info": {
   "codemirror_mode": {
    "name": "ipython",
    "version": 3
   },
   "file_extension": ".py",
   "mimetype": "text/x-python",
   "name": "python",
   "nbconvert_exporter": "python",
   "pygments_lexer": "ipython3",
   "version": "3.9.18"
  }
 },
 "nbformat": 4,
 "nbformat_minor": 5
}
